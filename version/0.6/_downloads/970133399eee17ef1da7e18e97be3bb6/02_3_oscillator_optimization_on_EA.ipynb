{
  "cells": [
    {
      "cell_type": "markdown",
      "metadata": {},
      "source": [
        "\n\n# Oscillator optimization using EA flow\n\nThis example demonstrates how to create and run a direct optimization.\n\nIt creates a direct optimization workflow for an oscillator with the Nature Inspired Optimization \n(Evolutionary Algorithm) using pyOptiSLang. It then explains how you can optionally save \nthe project to a desired location.\n"
      ]
    },
    {
      "cell_type": "markdown",
      "metadata": {},
      "source": [
        "## Perform required imports\nPerform the required imports.\n\n"
      ]
    },
    {
      "cell_type": "code",
      "execution_count": null,
      "metadata": {
        "collapsed": false
      },
      "outputs": [],
      "source": [
        "import os\nfrom pathlib import Path\n\nfrom ansys.optislang.core import Optislang\nimport ansys.optislang.core.node_types as node_types\nfrom ansys.optislang.core.nodes import DesignFlow, IntegrationNode, ParametricSystem\nfrom ansys.optislang.core.project_parametric import (\n    ComparisonType,\n    ConstraintCriterion,\n    DistributionType,\n    MixedParameter,\n    ObjectiveCriterion,\n    StochasticParameter,\n)\n\nexample_files_path = Path(os.environ[\"OSL_EXAMPLES\"]) / \"00_run_script\" / \"oscillator\" / \"files\""
      ]
    },
    {
      "cell_type": "markdown",
      "metadata": {},
      "source": [
        "## Create optiSLang instance\nCreate the optiSLang instance.\n\n"
      ]
    },
    {
      "cell_type": "code",
      "execution_count": null,
      "metadata": {
        "collapsed": false
      },
      "outputs": [],
      "source": [
        "osl = Optislang(ini_timeout=60)\nprint(osl)"
      ]
    },
    {
      "cell_type": "markdown",
      "metadata": {},
      "source": [
        "## Create workflow\n\n"
      ]
    },
    {
      "cell_type": "code",
      "execution_count": null,
      "metadata": {
        "collapsed": false
      },
      "outputs": [],
      "source": [
        "root_system = osl.application.project.root_system\n\n# Create EA optimizer system and postprocessing\n\nnoa2: ParametricSystem = root_system.create_node(type_=node_types.NOA2)\nomdb_path_slot = noa2.get_output_slots(\"OMDBPath\")[0]\n\npost_processing = root_system.create_node(type_=node_types.Postprocessing)\n\nimdb_path_slot = post_processing.get_input_slots(\"IMDBPath\")[0]\nomdb_path_slot.connect_to(imdb_path_slot)\n\n# Create oscillator\n\npython_node: IntegrationNode = noa2.create_node(\n    type_=node_types.Python2, design_flow=DesignFlow.RECEIVE_SEND\n)\npython_node.set_property(\n    name=\"Path\",\n    value={\n        \"path\": {\n            \"base_path_mode\": {\"value\": \"ABSOLUTE_PATH\"},\n            \"split_path\": {\"head\": \"\", \"tail\": str(example_files_path / \"oscillator.py\")},\n        }\n    },\n)\npython_node.set_property(name=\"MaxParallel\", value=4)\n\npython_node.register_location_as_parameter(\n    location=\"m\",\n    reference_value={\n        \"kind\": {\"value\": \"scalar\"},\n        \"scalar\": {\"real\": 2.0, \"imag\": 0.0},\n    },\n)\npython_node.register_location_as_parameter(location=\"k\", reference_value=20)\npython_node.register_location_as_parameter(\n    location=\"D\",\n    reference_value={\n        \"kind\": {\"value\": \"scalar\"},\n        \"scalar\": {\"real\": 0.02, \"imag\": 0.0},\n    },\n)\npython_node.register_location_as_parameter(location=\"Ekin\", reference_value=10)\n\npython_node.register_location_as_response(location=\"omega_damped\", reference_value=4.47124)\npython_node.register_location_as_response(location=\"x_max\", reference_value=0.62342)\n\n\n# Modify registered parameters\nnoa2.parameter_manager.modify_parameter(\n    MixedParameter(\n        name=\"k\",\n        reference_value=20.0,\n        range=(10, 50),\n        distribution_type=DistributionType.NORMAL,\n        distribution_parameters=(20.0, 1.0),\n    )\n)\nnoa2.parameter_manager.modify_parameter(\n    StochasticParameter(\n        name=\"Ekin\",\n        reference_value=10.0,\n        distribution_type=DistributionType.NORMAL,\n        distribution_parameters=(0.02, 0.002),\n    )\n)\n\n# Setup EA\nnoa2.criteria_manager.add_criterion(\n    ObjectiveCriterion(name=\"obj\", expression=\"x_max\", criterion=ComparisonType.MIN)\n)\nnoa2.criteria_manager.add_criterion(\n    ConstraintCriterion(\n        name=\"constr\",\n        expression=\"omega_damped\",\n        criterion=ComparisonType.LESSEQUAL,\n        limit_expression=\"8.0\",\n    )\n)\n\noptimizer_settings = noa2.get_property(\"OptimizerSettings\")\noptimizer_settings[\"settings\"][\"MaxGenerations\"] = 20\nnoa2.set_property(\"OptimizerSettings\", optimizer_settings)\n\n# Setup postprocessing\npost_processing.set_property(\"PostprocessingMode\", {\"value\": \"automatic\"})\npost_processing.set_property(\"ShowPostProcessingDuringRun\", False)\npost_processing.set_property(\"WaitForPostprocessingToFinish\", True)"
      ]
    },
    {
      "cell_type": "markdown",
      "metadata": {},
      "source": [
        "## Optionally save project\nIf you want to save the project to some desired location,\nuncomment and edit these lines:\n\n.. code:: python\n\n  dir_path = Path(r\"<insert-desired-location>\")\n  project_name = \"oscillator_optimization_workflow.opf\"\n  osl.application.save_as(dir_path / project_name)\n\n"
      ]
    },
    {
      "cell_type": "markdown",
      "metadata": {},
      "source": [
        "## Run workflow\nRun the workflow created by the preceding scripts.\n\n"
      ]
    },
    {
      "cell_type": "code",
      "execution_count": null,
      "metadata": {
        "collapsed": false
      },
      "outputs": [],
      "source": [
        "osl.application.project.start()\nosl.application.save()"
      ]
    },
    {
      "cell_type": "markdown",
      "metadata": {},
      "source": [
        "## Stop and cancel project\nStop and cancel the project.\n\n"
      ]
    },
    {
      "cell_type": "code",
      "execution_count": null,
      "metadata": {
        "collapsed": false
      },
      "outputs": [],
      "source": [
        "osl.dispose()"
      ]
    },
    {
      "cell_type": "markdown",
      "metadata": {},
      "source": [
        "## View generated workflow\nThis image shows the generated workflow.\n\n<img src=\"file://../../_static/02_3_optimization_on_EA_pyOSL_workflow.png\" width=\"400\" alt=\"Result of script.\">\n\n\n"
      ]
    }
  ],
  "metadata": {
    "kernelspec": {
      "display_name": "Python 3",
      "language": "python",
      "name": "python3"
    },
    "language_info": {
      "codemirror_mode": {
        "name": "ipython",
        "version": 3
      },
      "file_extension": ".py",
      "mimetype": "text/x-python",
      "name": "python",
      "nbconvert_exporter": "python",
      "pygments_lexer": "ipython3",
      "version": "3.10.13"
    }
  },
  "nbformat": 4,
  "nbformat_minor": 0
}