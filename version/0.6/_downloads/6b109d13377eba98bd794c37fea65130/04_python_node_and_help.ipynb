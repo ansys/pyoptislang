{
  "cells": [
    {
      "cell_type": "markdown",
      "metadata": {},
      "source": [
        "\n\n# Python node and help\n\nThis example demonstrates how to create workflow components and configure them.\n\nIt uses the ``python_node.py`` file to create a Python2 node.\nand perform these tasks:\n\n- Adds some source code.\n- Adds and removes parameters and responses.\n- Adds internal variables.\n\nIt then uses the ``python_help.py`` file to print which nodes are\navailable in the Python console. Lastly, it explains\nhow you can optionally save the project to a desired location.\n"
      ]
    },
    {
      "cell_type": "markdown",
      "metadata": {},
      "source": [
        "## Perform required imports\nPerform the required imports.\n\n"
      ]
    },
    {
      "cell_type": "code",
      "execution_count": null,
      "metadata": {
        "collapsed": false
      },
      "outputs": [],
      "source": [
        "from ansys.optislang.core import Optislang\nimport ansys.optislang.core.examples as examples"
      ]
    },
    {
      "cell_type": "markdown",
      "metadata": {},
      "source": [
        "## Create optiSLang instance\nCreate the optiSLang instance.\n\n"
      ]
    },
    {
      "cell_type": "code",
      "execution_count": null,
      "metadata": {
        "collapsed": false
      },
      "outputs": [],
      "source": [
        "osl = Optislang(ini_timeout=60)\nprint(osl)"
      ]
    },
    {
      "cell_type": "markdown",
      "metadata": {},
      "source": [
        "## Get paths of example scripts and run them\nGet the paths of the example scripts and then run\nthese scripts.\n\n"
      ]
    },
    {
      "cell_type": "code",
      "execution_count": null,
      "metadata": {
        "collapsed": false
      },
      "outputs": [],
      "source": [
        "paths1 = examples.get_files(\"python_node\")\npaths2 = examples.get_files(\"python_help\")\nosl.application.project.run_python_file(paths1[0])\nprint(osl.application.project.run_python_file(paths2[0]))"
      ]
    },
    {
      "cell_type": "markdown",
      "metadata": {},
      "source": [
        "## Optionally save project\nIf you want to save the project to some desired\nlocation, uncomment and edit these lines:\n\n.. code:: python\n\n  path = r'<insert-desired-location>'\n  osl.application.save_as(os.path.join(path, \"test_project.opf\"))\n\n\n"
      ]
    },
    {
      "cell_type": "markdown",
      "metadata": {},
      "source": [
        "## Stop and cancel project\nStop and cancel the project.\n\n"
      ]
    },
    {
      "cell_type": "code",
      "execution_count": null,
      "metadata": {
        "collapsed": false
      },
      "outputs": [],
      "source": [
        "osl.dispose()"
      ]
    },
    {
      "cell_type": "markdown",
      "metadata": {},
      "source": [
        "## View generated workflow\nThis image shows the generated workflow.\n\n<img src=\"file://../../_static/04_python_node_and_help.png\" width=\"300\" alt=\"Result of script.\">\n\n\n"
      ]
    }
  ],
  "metadata": {
    "kernelspec": {
      "display_name": "Python 3",
      "language": "python",
      "name": "python3"
    },
    "language_info": {
      "codemirror_mode": {
        "name": "ipython",
        "version": 3
      },
      "file_extension": ".py",
      "mimetype": "text/x-python",
      "name": "python",
      "nbconvert_exporter": "python",
      "pygments_lexer": "ipython3",
      "version": "3.10.13"
    }
  },
  "nbformat": 4,
  "nbformat_minor": 0
}