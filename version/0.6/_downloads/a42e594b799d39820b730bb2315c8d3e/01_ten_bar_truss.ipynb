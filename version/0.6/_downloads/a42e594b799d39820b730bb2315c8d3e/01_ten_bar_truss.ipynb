{
  "cells": [
    {
      "cell_type": "markdown",
      "metadata": {},
      "source": [
        "\n\n# Ten bar truss\n\nThis example demonstrates how to to create an ARSM ten bar truss flow in batch mode\nusing optiSLang python API.\n\nFirst, the ``arsm_ten_bar_truss.py`` file is used to create an ARSM ten bar\ntruss flow. Then the ``ten_bar_modify_parameters.py`` and\n``ten_bar_truss_lc2.py`` files are used to modify the flow. Lastly, the project is\nexecuted and a optionally the project is saved to a desired location.\n"
      ]
    },
    {
      "cell_type": "markdown",
      "metadata": {},
      "source": [
        "## Perform required imports\nPerform the required imports.\n\n"
      ]
    },
    {
      "cell_type": "code",
      "execution_count": null,
      "metadata": {
        "collapsed": false
      },
      "outputs": [],
      "source": [
        "from ansys.optislang.core import Optislang\nimport ansys.optislang.core.examples as examples"
      ]
    },
    {
      "cell_type": "markdown",
      "metadata": {},
      "source": [
        "## Create optiSLang instance\nCreate the optiSLang instance.\n\n"
      ]
    },
    {
      "cell_type": "code",
      "execution_count": null,
      "metadata": {
        "collapsed": false
      },
      "outputs": [],
      "source": [
        "osl = Optislang(ini_timeout=60)\nprint(osl)"
      ]
    },
    {
      "cell_type": "markdown",
      "metadata": {},
      "source": [
        "## Get paths of example scripts and run them\nGet the paths of the example scripts and then run these\nscripts.\n\n"
      ]
    },
    {
      "cell_type": "code",
      "execution_count": null,
      "metadata": {
        "collapsed": false
      },
      "outputs": [],
      "source": [
        "paths1 = examples.get_files(\"arsm_ten_bar_truss\")\npaths2 = examples.get_files(\"ten_bar_modify_parameters\")\npaths3 = examples.get_files(\"ten_bar_truss_lc2\")\n\nosl.application.project.run_python_file(paths1[0])\nosl.application.project.run_python_file(paths2[0])\nosl.application.project.run_python_file(paths3[0])"
      ]
    },
    {
      "cell_type": "markdown",
      "metadata": {},
      "source": [
        "## Run workflow\nRun the workflow created by the preceding scripts.\n\n"
      ]
    },
    {
      "cell_type": "code",
      "execution_count": null,
      "metadata": {
        "collapsed": false
      },
      "outputs": [],
      "source": [
        "osl.application.project.start()"
      ]
    },
    {
      "cell_type": "markdown",
      "metadata": {},
      "source": [
        "## Optionally save project\nIf you want to save the project to some desired location,\nuncomment and edit these lines:\n\n.. code:: python\n\n  path = r'<insert-desired-location>'\n  osl.application.save_as(os.path.join(path, \"test_project.opf\"))\n\n\n"
      ]
    },
    {
      "cell_type": "markdown",
      "metadata": {},
      "source": [
        "## Stop and cancel project\nStop and cancel the project.\n\n"
      ]
    },
    {
      "cell_type": "code",
      "execution_count": null,
      "metadata": {
        "collapsed": false
      },
      "outputs": [],
      "source": [
        "osl.dispose()"
      ]
    },
    {
      "cell_type": "markdown",
      "metadata": {},
      "source": [
        "## View generated workflow\nThis image shows the generated workflow.\n\n<img src=\"file://../../_static/01_ten_bar_truss.png\" width=\"400\" alt=\"Result of script.\">\n\n\n"
      ]
    }
  ],
  "metadata": {
    "kernelspec": {
      "display_name": "Python 3",
      "language": "python",
      "name": "python3"
    },
    "language_info": {
      "codemirror_mode": {
        "name": "ipython",
        "version": 3
      },
      "file_extension": ".py",
      "mimetype": "text/x-python",
      "name": "python",
      "nbconvert_exporter": "python",
      "pygments_lexer": "ipython3",
      "version": "3.10.13"
    }
  },
  "nbformat": 4,
  "nbformat_minor": 0
}