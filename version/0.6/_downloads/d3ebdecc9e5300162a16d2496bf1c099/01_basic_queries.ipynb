{
  "cells": [
    {
      "cell_type": "markdown",
      "metadata": {},
      "source": [
        "\n\n# Basic API queries\n\nThis example demonstrates the usage of the explicit API\nto perform basic queries on root project level.\n"
      ]
    },
    {
      "cell_type": "markdown",
      "metadata": {},
      "source": [
        "## Perform required imports\nPerform the required imports.\n\n"
      ]
    },
    {
      "cell_type": "code",
      "execution_count": null,
      "metadata": {
        "collapsed": false
      },
      "outputs": [],
      "source": [
        "from pathlib import Path\nimport tempfile\n\nfrom ansys.optislang.core import Optislang\nimport ansys.optislang.core.examples as examples\nfrom ansys.optislang.core.nodes import ParametricSystem, System"
      ]
    },
    {
      "cell_type": "markdown",
      "metadata": {},
      "source": [
        "## Helper functions\nDefine a few helper functions.\n\n"
      ]
    },
    {
      "cell_type": "code",
      "execution_count": null,
      "metadata": {
        "collapsed": false
      },
      "outputs": [],
      "source": [
        "def print_node(node):\n    print(node)\n\n\ndef print_parameters(node):\n    if isinstance(node, ParametricSystem):\n        print(f\"** Parameters of {node.get_name()} **\")\n        [print(parameter) for parameter in node.parameter_manager.get_parameters()]\n\n\ndef print_responses(node):\n    if isinstance(node, ParametricSystem):\n        print(f\"** Responses of {node.get_name()} **\")\n        [print(response) for response in node.response_manager.get_responses()]\n\n\ndef print_criteria(node):\n    if isinstance(node, ParametricSystem):\n        print(f\"** Criteria of {node.get_name()} **\")\n        [print(criterion) for criterion in node.criteria_manager.get_criteria()]\n\n\ndef for_each_child_node(node, function, recursive=False):\n    for child_node in node.get_nodes():\n        function(child_node)\n        if recursive:\n            if isinstance(child_node, System):\n                for_each_child_node(child_node, function)"
      ]
    },
    {
      "cell_type": "markdown",
      "metadata": {},
      "source": [
        "## Create optiSLang instance\nCreate the optiSLang instance.\n\n"
      ]
    },
    {
      "cell_type": "code",
      "execution_count": null,
      "metadata": {
        "collapsed": false
      },
      "outputs": [],
      "source": [
        "osl = Optislang(ini_timeout=60)"
      ]
    },
    {
      "cell_type": "markdown",
      "metadata": {},
      "source": [
        "## Get paths of example scripts and run them\nGet the paths of the example scripts and then run\nthese scripts.\n\n"
      ]
    },
    {
      "cell_type": "code",
      "execution_count": null,
      "metadata": {
        "collapsed": false
      },
      "outputs": [],
      "source": [
        "paths1 = examples.get_files(\"oscillator_sensitivity_mop\")\npaths2 = examples.get_files(\"oscillator_optimization_on_mop\")\n\nosl.run_python_file(paths1[0])\nosl.run_python_file(paths2[0])"
      ]
    },
    {
      "cell_type": "markdown",
      "metadata": {},
      "source": [
        "## Query project tree\nPrint each project node/system.\nPrint parameters/responses/criteria for each parametric system\nin the project.\n\n"
      ]
    },
    {
      "cell_type": "code",
      "execution_count": null,
      "metadata": {
        "collapsed": false
      },
      "outputs": [],
      "source": [
        "print(\"*** Project Nodes ***\")\nfor_each_child_node(osl.application.project.root_system, print_node, recursive=True)\n\nprint(\"*** Registered parameters of parametric systems ***\")\nfor_each_child_node(osl.application.project.root_system, print_parameters, recursive=True)\n\nprint(\"*** Registered responses of parametric systems ***\")\nfor_each_child_node(osl.application.project.root_system, print_responses, recursive=True)\n\nprint(\"*** Defined criteria of parametric systems ***\")\nfor_each_child_node(osl.application.project.root_system, print_criteria, recursive=True)"
      ]
    },
    {
      "cell_type": "markdown",
      "metadata": {},
      "source": [
        "## Stop and cancel project\nStop and cancel the project.\n\n"
      ]
    },
    {
      "cell_type": "code",
      "execution_count": null,
      "metadata": {
        "collapsed": false
      },
      "outputs": [],
      "source": [
        "osl.dispose()"
      ]
    }
  ],
  "metadata": {
    "kernelspec": {
      "display_name": "Python 3",
      "language": "python",
      "name": "python3"
    },
    "language_info": {
      "codemirror_mode": {
        "name": "ipython",
        "version": 3
      },
      "file_extension": ".py",
      "mimetype": "text/x-python",
      "name": "python",
      "nbconvert_exporter": "python",
      "pygments_lexer": "ipython3",
      "version": "3.10.13"
    }
  },
  "nbformat": 4,
  "nbformat_minor": 0
}