{
  "cells": [
    {
      "cell_type": "markdown",
      "metadata": {},
      "source": [
        "\n\n# Basic server queries\n\nThis example demonstrates how to use PyOptiSLang to perform basic\nqueries/commands on the optiSLang server using the explicit API.\n"
      ]
    },
    {
      "cell_type": "markdown",
      "metadata": {},
      "source": [
        "## Perform required imports\nPerform the required imports.\n\n"
      ]
    },
    {
      "cell_type": "code",
      "execution_count": null,
      "metadata": {
        "collapsed": false
      },
      "outputs": [],
      "source": [
        "from pathlib import Path\nimport tempfile\nfrom typing import TYPE_CHECKING\n\nfrom ansys.optislang.core import Optislang\nimport ansys.optislang.core.examples as examples\n\nif TYPE_CHECKING:\n    from ansys.optislang.core.tcp.osl_server import TcpOslServer"
      ]
    },
    {
      "cell_type": "markdown",
      "metadata": {},
      "source": [
        "## Create optiSLang instance\nCreate the optiSLang instance.\n\n"
      ]
    },
    {
      "cell_type": "code",
      "execution_count": null,
      "metadata": {
        "collapsed": false
      },
      "outputs": [],
      "source": [
        "example_path = examples.get_files(\"ten_bar_truss\")[1][0]\ntmp_dir = Path(tempfile.mkdtemp())\nfile_path = tmp_dir / \"evaluate_design_example.opf\"\n\nosl = Optislang(project_path=example_path, ini_timeout=60)\nosl.application.save_as(file_path)\nosl_server: TcpOslServer = osl.osl_server"
      ]
    },
    {
      "cell_type": "markdown",
      "metadata": {},
      "source": [
        "## Get optiSLang server connection info\nPrint osl server host and port.\n\n"
      ]
    },
    {
      "cell_type": "code",
      "execution_count": null,
      "metadata": {
        "collapsed": false
      },
      "outputs": [],
      "source": [
        "print(f\"Server host/address: {osl_server.host}\")\nprint(f\"Server port: {osl_server.port}\")"
      ]
    },
    {
      "cell_type": "markdown",
      "metadata": {},
      "source": [
        "## Get optiSLang info and optiSLang server info\nPrint optiSLang and optiSLang server info.\n\n"
      ]
    },
    {
      "cell_type": "code",
      "execution_count": null,
      "metadata": {
        "collapsed": false
      },
      "outputs": [],
      "source": [
        "print(f\"Server info: {osl_server.get_server_info()}\")"
      ]
    },
    {
      "cell_type": "markdown",
      "metadata": {},
      "source": [
        "## Get basic project info\nQuery basic server/project info.\n\n"
      ]
    },
    {
      "cell_type": "code",
      "execution_count": null,
      "metadata": {
        "collapsed": false
      },
      "outputs": [],
      "source": [
        "print(f\"Basic project info: {osl_server.get_basic_project_info()}\")\nprint(f\"Full project tree: {osl_server.get_full_project_tree()}\")"
      ]
    },
    {
      "cell_type": "markdown",
      "metadata": {},
      "source": [
        "## Stop and cancel project\nStop and cancel the project.\n\n"
      ]
    },
    {
      "cell_type": "code",
      "execution_count": null,
      "metadata": {
        "collapsed": false
      },
      "outputs": [],
      "source": [
        "osl.dispose()"
      ]
    }
  ],
  "metadata": {
    "kernelspec": {
      "display_name": "Python 3",
      "language": "python",
      "name": "python3"
    },
    "language_info": {
      "codemirror_mode": {
        "name": "ipython",
        "version": 3
      },
      "file_extension": ".py",
      "mimetype": "text/x-python",
      "name": "python",
      "nbconvert_exporter": "python",
      "pygments_lexer": "ipython3",
      "version": "3.10.14"
    }
  },
  "nbformat": 4,
  "nbformat_minor": 0
}