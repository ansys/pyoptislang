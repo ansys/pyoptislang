{
  "cells": [
    {
      "cell_type": "markdown",
      "metadata": {},
      "source": [
        "\n\n# Raw communication with osl server\n\nThis example demonstrates how to use PyOptiSLang to perform raw\nqueries/commands on the optiSLang server using the commands and\nqueries convenience classes.\n"
      ]
    },
    {
      "cell_type": "markdown",
      "metadata": {},
      "source": [
        "## Perform required imports\nPerform the required imports.\n\n"
      ]
    },
    {
      "cell_type": "code",
      "execution_count": null,
      "metadata": {
        "collapsed": false
      },
      "outputs": [],
      "source": [
        "from pathlib import Path\nimport tempfile\n\nfrom ansys.optislang.core import Optislang\nfrom ansys.optislang.core import server_commands as commands\nfrom ansys.optislang.core import server_queries as queries\nimport ansys.optislang.core.examples as examples\nfrom ansys.optislang.core.project_parametric import Parameter"
      ]
    },
    {
      "cell_type": "markdown",
      "metadata": {},
      "source": [
        "## Create optiSLang instance\nCreate the optiSLang instance.\n\n"
      ]
    },
    {
      "cell_type": "code",
      "execution_count": null,
      "metadata": {
        "collapsed": false
      },
      "outputs": [],
      "source": [
        "example_path = examples.get_files(\"ten_bar_truss\")[1][0]\ntmp_dir = Path(tempfile.mkdtemp())\nfile_path = tmp_dir / \"evaluate_design_example.opf\"\n\nosl = Optislang(project_path=example_path)\nosl.save_as(file_path)"
      ]
    },
    {
      "cell_type": "markdown",
      "metadata": {},
      "source": [
        "## Modify root project parameters\nUse raw osl server communication to modify the first parameter\non project root level.\n\n"
      ]
    },
    {
      "cell_type": "code",
      "execution_count": null,
      "metadata": {
        "collapsed": false
      },
      "outputs": [],
      "source": [
        "# Get the first parameter on project root level\nroot_system_uid = osl.project.root_system.uid\nroot_system_properties = osl.get_osl_server().send_command(\n    queries.actor_properties(uid=root_system_uid)\n)\nroot_system_pm_raw = root_system_properties[\"properties\"][\"ParameterManager\"]\n\nfirst_parameter = Parameter.from_dict(root_system_pm_raw[\"parameter_container\"][0])\n\n# Print out the reference value\nprint(f'Parameter \"{first_parameter.name}\" reference value: {first_parameter.reference_value}')\n\n# Modify the reference value\nfirst_parameter.reference_value = 15.0\n\n# Adapt the parameter manager to the changes and\n# send the modified parameter manager back to optiSLang\nroot_system_pm_raw[\"parameter_container\"][0] = first_parameter.to_dict()\n\nserver_response = osl.get_osl_server().send_command(\n    commands.set_actor_property(\n        actor_uid=root_system_uid, name=\"ParameterManager\", value=root_system_pm_raw\n    )\n)\n\nprint(f'Modifying parameter reference value: {server_response[0][\"status\"]}')\n\n# Get and print the (now modified) first parameter on project root level\nroot_system_properties = osl.get_osl_server().send_command(\n    queries.actor_properties(uid=root_system_uid)\n)\nroot_system_pm_raw = root_system_properties[\"properties\"][\"ParameterManager\"]\n\nmodified_first_parameter = Parameter.from_dict(root_system_pm_raw[\"parameter_container\"][0])\n\nprint(\n    f'Modified parameter \"{modified_first_parameter.name}\" reference value: {modified_first_parameter.reference_value}'\n)"
      ]
    },
    {
      "cell_type": "markdown",
      "metadata": {},
      "source": [
        "## Stop and cancel project\nStop and cancel the project.\n\n"
      ]
    },
    {
      "cell_type": "code",
      "execution_count": null,
      "metadata": {
        "collapsed": false
      },
      "outputs": [],
      "source": [
        "osl.dispose()"
      ]
    }
  ],
  "metadata": {
    "kernelspec": {
      "display_name": "Python 3",
      "language": "python",
      "name": "python3"
    },
    "language_info": {
      "codemirror_mode": {
        "name": "ipython",
        "version": 3
      },
      "file_extension": ".py",
      "mimetype": "text/x-python",
      "name": "python",
      "nbconvert_exporter": "python",
      "pygments_lexer": "ipython3",
      "version": "3.10.13"
    }
  },
  "nbformat": 4,
  "nbformat_minor": 0
}