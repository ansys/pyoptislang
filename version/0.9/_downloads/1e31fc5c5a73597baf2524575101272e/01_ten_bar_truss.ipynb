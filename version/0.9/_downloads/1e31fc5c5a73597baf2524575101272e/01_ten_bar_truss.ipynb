{
  "cells": [
    {
      "cell_type": "markdown",
      "metadata": {},
      "source": [
        "\n\n# Ten bar truss\n\nThis example demonstrates how to to create an ARSM ten bar truss flow in batch mode\nusing pyOptiSLang.\n\nFirst, the workflow is created, properties are set and project is executed. It explains then\nhow you can save the project to a desired location.\n"
      ]
    },
    {
      "cell_type": "markdown",
      "metadata": {},
      "source": [
        "## Perform required imports\nPerform the required imports.\n\n"
      ]
    },
    {
      "cell_type": "code",
      "execution_count": null,
      "metadata": {
        "collapsed": false
      },
      "outputs": [],
      "source": [
        "import os\nfrom pathlib import Path\n\nfrom ansys.optislang.core import Optislang\nimport ansys.optislang.core.node_types as node_types\nfrom ansys.optislang.core.nodes import DesignFlow, IntegrationNode, ParametricSystem\nfrom ansys.optislang.core.project_parametric import (\n    ComparisonType,\n    ConstraintCriterion,\n    ObjectiveCriterion,\n    OptimizationParameter,\n)\nfrom ansys.optislang.core.utils import get_osl_exec\n\nexample_files_path = Path(os.environ[\"OSL_EXAMPLES\"]) / \"00_run_script\" / \"ten_bar_truss\" / \"files\""
      ]
    },
    {
      "cell_type": "markdown",
      "metadata": {},
      "source": [
        "## Create optiSLang instance\nCreate the optiSLang instance.\n\n"
      ]
    },
    {
      "cell_type": "code",
      "execution_count": null,
      "metadata": {
        "collapsed": false
      },
      "outputs": [],
      "source": [
        "osl = Optislang(ini_timeout=60)\nprint(osl)"
      ]
    },
    {
      "cell_type": "markdown",
      "metadata": {},
      "source": [
        "## Create workflow\n\n"
      ]
    },
    {
      "cell_type": "code",
      "execution_count": null,
      "metadata": {
        "collapsed": false
      },
      "outputs": [],
      "source": [
        "root_system = osl.application.project.root_system\n\n# Create nodes\n# ------------\n\narsm: ParametricSystem = root_system.create_node(type_=node_types.ARSM)\ntext_input: IntegrationNode = arsm.create_node(\n    type_=node_types.Parameterize, name=\"infile\", design_flow=DesignFlow.RECEIVE\n)\nprocess: IntegrationNode = arsm.create_node(type_=node_types.Process, name=\"process\")\ntext_output: IntegrationNode = arsm.create_node(\n    type_=node_types.ETKAsciiOutput, name=\"outfile\", design_flow=DesignFlow.SEND\n)\n\n# Setup nodes\n# -----------\n\n# Text input - set file path and register locations as parameters\ntext_input.set_property(\n    name=\"FilePath\",\n    value={\n        \"path\": {\n            \"base_path_mode\": {\"value\": \"ABSOLUTE_PATH\"},\n            \"split_path\": {\"head\": \"\", \"tail\": str(example_files_path / \"ten_bar_truss.s\")},\n        }\n    },\n)\n\n# register locations as parameters\n# note: This automatically creates/assigns parameter to the parent system, but parameter properties\n# (parameter type, range, distribution ...) cannot be set directly and have to be modified\n# afterward, if needed. Another option is to define parameters in parent system beforehand.\nfor i in range(1, 11):\n    location = {\n        \"column\": 20,\n        \"expandable\": True,\n        \"format\": r\"%18.16lf\",\n        \"length\": 8,\n        \"line\": int(23 + i),\n        \"marker\": r\"\",\n        \"name\": f\"area{i:02}\",\n        \"preferred_format\": False,\n        \"stop_at_line_end\": True,\n        \"force_integer_as_real\": True,\n    }\n    text_input.register_location_as_parameter(\n        location={\"input_parameter\": location, \"type\": \"input_parameter\"},\n        name=f\"area{i:02}\",\n        reference_value={\n            \"kind\": {\"value\": \"scalar\"},\n            \"scalar\": {\"real\": 10.0, \"imag\": 0.0},\n        },\n    )\n\n# ARSM - Configure parameters\nfor i in range(1, 11):\n    arsm.parameter_manager.modify_parameter(\n        OptimizationParameter(name=f\"area{i:02}\", reference_value=10.0, range=[0.1, 20])\n    )\n\n# Process - set properties, input/output files\nprocess.set_property(\"DistinctWorkingDirectory\", False)\nslang_executable = get_osl_exec()[1].parent / \"slang\" / \"bin\" / \"slang\"\nprocess.set_property(\"Command\", str(slang_executable))\nprocess.set_property(\"Arguments\", [\"-b\", \"ten_bar_truss.s\"])\nprocess.set_property(\"MaxParallel\", 4)\n\ninput_files = [\n    {\n        \"archival\": {\"value\": \"default\"},\n        \"initial_path\": \"\",\n        \"input_filename\": \"\",\n        \"slot_name\": \"file_path\",\n        \"user_data_1\": \"\",\n        \"user_data_2\": \"\",\n        \"working_filename\": \"ten_bar_truss.s\",\n    }\n]\nprocess.set_property(\"InputFiles\", input_files)\n\noutput_files = [\n    {\n        \"archival\": {\"value\": \"default\"},\n        \"importance\": {\"value\": \"required\"},\n        \"remove_on_reset\": False,\n        \"slot_name\": \"outfile_path\",\n        \"working_file_regex\": \"\",\n        \"working_filename\": \"ten_bar_truss.out\",\n    }\n]\nprocess.set_property(\"OutputFiles\", output_files)\n\n# Text Output - set reference file, responses\noutfile = {\n    \"path\": {\n        \"base_path_mode\": {\"value\": \"WORKING_DIR_RELATIVE\"},\n        \"split_path\": {\n            \"head\": str(example_files_path),\n            \"tail\": \"ten_bar_truss.out\",\n        },\n    }\n}\ntext_output.set_property(\"File\", outfile)\n\n# set response `mass`\n# LineReader with repeater settings\nline_offset = 1\nline_increment = 1\nline_repetitions = 1\n# TokenReade with repeater settings\ntoken_offset = 0\ntoken_increment = 1\ntoken_repetitions = 1\n\nmass_location = {\n    \"etk_variable\": {\n        \"type\": \"etk_ascii_output_variable\",\n        \"variable\": {\n            \"base_path\": \"\",\n            \"encoding\": \"utf-8\",\n            \"expression\": \"\",\n            \"file_path\": str(example_files_path / \"ten_bar_truss.out\"),\n            \"id\": \"mass\",\n            \"prefer_signal\": False,\n            \"reader\": {\n                \"marker\": {\n                    \"next\": {\n                        \"marker\": {\n                            \"repeater\": {\n                                \"repeater\": {\n                                    \"increment\": token_increment,\n                                    \"max_increment\": token_repetitions,\n                                    \"offset\": token_offset,\n                                },\n                                \"type\": \"increment_repeater\",\n                            },\n                            \"separator\": \" \",\n                        },\n                        \"type\": \"token_reader\",\n                    },\n                    \"repeater\": {\n                        \"repeater\": {\n                            \"increment\": line_increment,\n                            \"max_increment\": line_repetitions,\n                            \"offset\": line_offset,\n                        },\n                        \"type\": \"increment_repeater\",\n                    },\n                },\n                \"type\": \"line_reader\",\n            },\n        },\n    },\n    \"file_path\": {\n        \"path\": {\n            \"base_path_mode\": {\"value\": \"ABSOLUTE_PATH\"},\n            \"split_path\": {\n                \"head\": \"\",\n                \"tail\": str(example_files_path / \"ten_bar_truss.out\"),\n            },\n        }\n    },\n}\ntext_output.register_location_as_response(location=mass_location, name=\"mass\")\n\n# set response `stress``\nbegin_marker = \"Stress element\"\nend_marker = \"Stress element\"\n# Repeated marker settings\nmarker_offset = 0\nmarker_increment = 1\nmarker_repetitions = 10\n# LineReader with repeater settings\nline_offset = 1\nline_increment = 1\nline_repetitions = 1\n# TokenReader with repeater settings\ntoken_offset = 0\ntoken_increment = 1\ntoken_repetitions = 1\n\nstress_location = {\n    \"etk_variable\": {\n        \"type\": \"etk_ascii_output_variable\",\n        \"variable\": {\n            \"base_path\": \"\",\n            \"encoding\": \"utf-8\",\n            \"expression\": \"\",\n            \"file_path\": str(example_files_path / \"ten_bar_truss.out\"),\n            \"id\": \"stress\",\n            \"prefer_signal\": False,\n            \"reader\": {\n                \"marker\": {\n                    \"end_search\": end_marker,\n                    \"end_search_is_regex\": True,\n                    \"next\": {\n                        \"marker\": {\n                            \"next\": {\n                                \"marker\": {\n                                    \"repeater\": {\n                                        \"repeater\": {\n                                            \"increment\": token_increment,\n                                            \"max_increment\": token_repetitions,\n                                            \"offset\": token_offset,\n                                        },\n                                        \"type\": \"increment_repeater\",\n                                    },\n                                    \"separator\": \" \",\n                                },\n                                \"type\": \"token_reader\",\n                            },\n                            \"repeater\": {\n                                \"repeater\": {\n                                    \"increment\": line_increment,\n                                    \"max_increment\": line_repetitions,\n                                    \"offset\": line_offset,\n                                },\n                                \"type\": \"increment_repeater\",\n                            },\n                        },\n                        \"type\": \"line_reader\",\n                    },\n                    \"repeater\": {\n                        \"repeater\": {\n                            \"increment\": marker_increment,\n                            \"max_increment\": marker_repetitions,\n                            \"offset\": marker_offset,\n                        },\n                        \"type\": \"increment_repeater\",\n                    },\n                    \"search\": begin_marker,\n                    \"search_is_regex\": True,\n                },\n                \"type\": \"regex_searcher\",\n            },\n        },\n    },\n    \"file_path\": {\n        \"path\": {\n            \"base_path_mode\": {\"value\": \"ABSOLUTE_PATH\"},\n            \"split_path\": {\n                \"head\": \"\",\n                \"tail\": str(example_files_path / \"ten_bar_truss.out\"),\n            },\n        }\n    },\n}\n\ntext_output.register_location_as_response(location=stress_location, name=\"stress\")\n\n# ARSM - add criteria\narsm.criteria_manager.add_criterion(\n    ObjectiveCriterion(name=\"obj\", expression=\"mass\", criterion=ComparisonType.MIN)\n)\narsm.criteria_manager.add_criterion(\n    ConstraintCriterion(\n        name=\"c\",\n        expression=\"max(abs(stress))\",\n        criterion=ComparisonType.LESSEQUAL,\n        limit_expression=\"25000\",\n    )\n)\n\n# Connect nodes\n# -------------\ntext_input_odesign = text_input.get_output_slots(name=\"ODesign\")[0]\ntext_input_opath = text_input.get_output_slots(name=\"OPath\")[0]\nprocess_idesign = process.get_input_slots(name=\"IDesign\")[0]\nprocess_ipath = process.get_input_slots(\"file_path\")[0]\ntext_input_odesign.connect_to(process_idesign)\ntext_input_opath.connect_to(process_ipath)\n\nprocess_odesign = process.get_output_slots(\"ODesign\")[0]\nprocess_path = process.get_output_slots(\"outfile_path\")[0]\ntext_output_idesign = text_output.get_input_slots(name=\"IDesign\")[0]\ntext_output_ipath = text_output.get_input_slots(name=\"IPath\")[0]\nprocess_odesign.connect_to(text_output_idesign)\nprocess_path.connect_to(text_output_ipath)"
      ]
    },
    {
      "cell_type": "markdown",
      "metadata": {},
      "source": [
        "## Optionally save project\nIf you want to save the project to some desired location,\nuncomment and edit these lines:\n\n.. code:: python\n\n  dir_path = Path(r\"<insert-desired-location>\")\n  project_name = \"ten_bar_truss_workflow.opf\"\n  osl.application.save_as(dir_path / project_name)\n\n"
      ]
    },
    {
      "cell_type": "markdown",
      "metadata": {},
      "source": [
        "## Run workflow\nRun the workflow created in previous steps.\n\n"
      ]
    },
    {
      "cell_type": "code",
      "execution_count": null,
      "metadata": {
        "collapsed": false
      },
      "outputs": [],
      "source": [
        "osl.application.project.start()\nosl.application.save()"
      ]
    },
    {
      "cell_type": "markdown",
      "metadata": {},
      "source": [
        "## Stop and cancel project\nStop and cancel the project.\n\n"
      ]
    },
    {
      "cell_type": "code",
      "execution_count": null,
      "metadata": {
        "collapsed": false
      },
      "outputs": [],
      "source": [
        "osl.dispose()"
      ]
    },
    {
      "cell_type": "markdown",
      "metadata": {},
      "source": [
        "## View generated workflow\nThis image shows the generated workflow.\n\n<img src=\"file://../../_static/01_ten_bar_truss_pyOSL_workflow.png\" width=\"400\" alt=\"Result of script.\">\n\n\n"
      ]
    }
  ],
  "metadata": {
    "kernelspec": {
      "display_name": "Python 3",
      "language": "python",
      "name": "python3"
    },
    "language_info": {
      "codemirror_mode": {
        "name": "ipython",
        "version": 3
      },
      "file_extension": ".py",
      "mimetype": "text/x-python",
      "name": "python",
      "nbconvert_exporter": "python",
      "pygments_lexer": "ipython3",
      "version": "3.10.16"
    }
  },
  "nbformat": 4,
  "nbformat_minor": 0
}