{
  "cells": [
    {
      "cell_type": "markdown",
      "metadata": {},
      "source": [
        "\n\n# Proxy solver\n\nThis example demonstrates how to obtain designs from parametric system and process them externally.\n\nIt creates a proxy solver node inside parametric system and solves it's designs externally.\n\nThis is a unified approach for \"optiSLang inside\" solutions.\n"
      ]
    },
    {
      "cell_type": "markdown",
      "metadata": {},
      "source": [
        "## Perform required imports\nPerform the required imports.\n\n"
      ]
    },
    {
      "cell_type": "code",
      "execution_count": null,
      "metadata": {
        "collapsed": false
      },
      "outputs": [],
      "source": [
        "import time\n\nfrom ansys.optislang.core import Optislang\nimport ansys.optislang.core.node_types as node_types\nfrom ansys.optislang.core.nodes import DesignFlow, ParametricSystem, ProxySolverNode\nfrom ansys.optislang.core.project_parametric import (\n    ComparisonType,\n    ObjectiveCriterion,\n    OptimizationParameter,\n)\nfrom ansys.optislang.core.utils import find_all_osl_exec"
      ]
    },
    {
      "cell_type": "markdown",
      "metadata": {},
      "source": [
        "## Create solver\nDefine a simple calculator function to solve the variations\n\n"
      ]
    },
    {
      "cell_type": "code",
      "execution_count": null,
      "metadata": {
        "collapsed": false
      },
      "outputs": [],
      "source": [
        "def calculator(hid, X1, X2, X3, X4, X5):\n    from math import sin\n\n    Y = 0.5 * X1 + X2 + 0.5 * X1 * X2 + 5 * sin(X3) + 0.2 * X4 + 0.1 * X5\n    return Y\n\n\ndef calculate(designs):\n    result_design_list = []\n    print(f\"Calculate {len(designs)} designs\")\n    for design in designs:\n        hid = design[\"hid\"]\n        parameters = design[\"parameters\"]\n        X1 = 0.0\n        X2 = 0.0\n        X3 = 0.0\n        X4 = 0.0\n        X5 = 0.0\n        for parameter in parameters:\n            if parameter[\"name\"] == \"X1\":\n                X1 = parameter[\"value\"]\n            elif parameter[\"name\"] == \"X2\":\n                X2 = parameter[\"value\"]\n            elif parameter[\"name\"] == \"X3\":\n                X3 = parameter[\"value\"]\n            elif parameter[\"name\"] == \"X4\":\n                X4 = parameter[\"value\"]\n            elif parameter[\"name\"] == \"X5\":\n                X5 = parameter[\"value\"]\n        Y = calculator(hid, X1, X2, X3, X4, X5)\n\n        result_design = {}\n        result_design[\"hid\"] = hid\n        responses = [{\"name\": \"Y\", \"value\": Y}]\n        result_design[\"responses\"] = responses\n        result_design_list.append(result_design)\n\n    print(f\"Return {len(result_design_list)} designs\")\n    return result_design_list"
      ]
    },
    {
      "cell_type": "markdown",
      "metadata": {},
      "source": [
        "## Create optiSLang instance\nFind the optiSLang >= 25.1 executable. Initialize the Optislang class instance with the executable.\n\n"
      ]
    },
    {
      "cell_type": "code",
      "execution_count": null,
      "metadata": {
        "collapsed": false
      },
      "outputs": [],
      "source": [
        "available_optislang_executables = find_all_osl_exec()\nversion, executables = available_optislang_executables.popitem(last=False)\nif not version >= 251:\n    raise KeyError(\"OptiSLang installation >= 25R1 wasn't found, please specify path manually.\")\n\nosl = Optislang(executable=executables[0])\n\nprint(f\"Using optiSLang version {osl.osl_version_string}\")"
      ]
    },
    {
      "cell_type": "markdown",
      "metadata": {},
      "source": [
        "## Create workflow\n\n"
      ]
    },
    {
      "cell_type": "code",
      "execution_count": null,
      "metadata": {
        "collapsed": false
      },
      "outputs": [],
      "source": [
        "root_system = osl.application.project.root_system\n\n# Create the algorithm system of your choice.\n\nalgorithm_system: ParametricSystem = root_system.create_node(\n    type_=node_types.Sensitivity, name=\"Sensitivity\"\n)\n\nnum_discretization = 2000\n\nalgorithm_settings = algorithm_system.get_property(\"AlgorithmSettings\")\nalgorithm_settings[\"num_discretization\"] = num_discretization\nalgorithm_system.set_property(\"AlgorithmSettings\", algorithm_settings)\n\n# Fast running solver settings\n\nalgorithm_system.set_property(\"AutoSaveMode\", \"no_auto_save\")\nalgorithm_system.set_property(\"SolveTwice\", True)\nalgorithm_system.set_property(\"UpdateResultFile\", \"never\")\nalgorithm_system.set_property(\"WriteDesignStartSetFlag\", False)\n\n# Add the Proxy Solver node and set the desired maximum number of designs you handle in one go.\n\nproxy_solver: ProxySolverNode = algorithm_system.create_node(\n    type_=node_types.ProxySolver, name=\"Calculator\", design_flow=DesignFlow.RECEIVE_SEND\n)\n\nmulti_design_launch_num = 99  # set -1 to solve all designs simultaneously\nproxy_solver.set_property(\"MultiDesignLaunchNum\", multi_design_launch_num)\nproxy_solver.set_property(\"ForwardHPCLicenseContextEnvironment\", True)\n\n# Load the available parameters and responses.\n\nload_json = {}\nload_json[\"parameters\"] = []\nload_json[\"responses\"] = []\n\nfor i in range(1, 6):\n    parameter = {\"dir\": {\"value\": \"input\"}, \"name\": f\"X{i}\", \"value\": 1.0}\n    load_json[\"parameters\"].append(parameter)\n\nresponse = {\"dir\": {\"value\": \"output\"}, \"name\": \"Y\", \"value\": 3.0}\nload_json[\"responses\"].append(response)\n\nproxy_solver.load(args=load_json)\n\n# Register parameters and responses to be available in the algorithm system\n\nproxy_solver.register_locations_as_parameter()\nproxy_solver.register_locations_as_response()\n\n# Change parameter bounds.\n\nfor i in range(1, 6):\n    algorithm_system.parameter_manager.modify_parameter(\n        OptimizationParameter(name=f\"X{i}\", reference_value=1.0, range=(-3.14, 3.14))\n    )\n\n# Create a criterion in the algorithm system\n\nalgorithm_system.criteria_manager.add_criterion(\n    ObjectiveCriterion(name=\"obj\", expression=\"Y\", criterion=ComparisonType.MIN)\n)"
      ]
    },
    {
      "cell_type": "markdown",
      "metadata": {},
      "source": [
        "## Optionally save project\nIf you want to save the project to some desired location,\nuncomment and edit these lines:\n\n.. code:: python\n\n  dir_path = Path(r\"<insert-desired-location>\")\n  project_name = \"proxy_solver_workflow.opf\"\n  osl.application.save_as(dir_path / project_name)\n\n"
      ]
    },
    {
      "cell_type": "markdown",
      "metadata": {},
      "source": [
        "## Run workflow\nRun the workflow created by the preceding scripts.\n\n"
      ]
    },
    {
      "cell_type": "code",
      "execution_count": null,
      "metadata": {
        "collapsed": false
      },
      "outputs": [],
      "source": [
        "# Start the optiSLang project execution.\nosl.application.project.start(wait_for_finished=False)\n\n\n# Now loop until get_status() returns \"Processing done\" for the root system. Use the GET_DESIGNS query and the SET_DESIGNS command for the Proxy Solver node to get designs and set responses until the system is done.\n\nwhile not osl.project.root_system.get_status() == \"Processing done\":\n    design_list = proxy_solver.get_designs()\n    if len(design_list):\n        responses_dict = calculate(design_list)\n        proxy_solver.set_designs(responses_dict)\n    # time.sleep(0.1)\n\nprint(\"Solved Successfully!\")"
      ]
    },
    {
      "cell_type": "markdown",
      "metadata": {},
      "source": [
        "## Stop and cancel project\nStop and cancel the project.\n\n"
      ]
    },
    {
      "cell_type": "code",
      "execution_count": null,
      "metadata": {
        "collapsed": false
      },
      "outputs": [],
      "source": [
        "osl.dispose()"
      ]
    },
    {
      "cell_type": "markdown",
      "metadata": {},
      "source": [
        "## View generated workflow\nThis image shows the generated workflow.\nHowever, it is important to note, that this workflow is only usable through pyoptislang and cannot be used interactively!\n\n<img src=\"file://../../_static/03_ProxySolver.png\" width=\"400\" alt=\"Result of script.\">\n\n\n"
      ]
    }
  ],
  "metadata": {
    "kernelspec": {
      "display_name": "Python 3",
      "language": "python",
      "name": "python3"
    },
    "language_info": {
      "codemirror_mode": {
        "name": "ipython",
        "version": 3
      },
      "file_extension": ".py",
      "mimetype": "text/x-python",
      "name": "python",
      "nbconvert_exporter": "python",
      "pygments_lexer": "ipython3",
      "version": "3.10.16"
    }
  },
  "nbformat": 4,
  "nbformat_minor": 0
}