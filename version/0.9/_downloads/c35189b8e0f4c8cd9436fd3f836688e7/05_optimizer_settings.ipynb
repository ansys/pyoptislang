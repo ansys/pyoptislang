{
  "cells": [
    {
      "cell_type": "markdown",
      "metadata": {},
      "source": [
        "\n\n# Optimizer settings\n\nThis example demonstrates how to create and configure optimizer systems.\n\nIt uses the ``optimizer_settings.py`` file to create,\nconfigure, and insert an EA (Evolutionary Algorithm) optimizer\ninto the scenery. It then explains how you can optionally save\nthe project to a desired location.\n"
      ]
    },
    {
      "cell_type": "code",
      "execution_count": null,
      "metadata": {
        "collapsed": false
      },
      "outputs": [],
      "source": [
        "# Perform required imports\n# ~~~~~~~~~~~~~~~~~~~~~~~~\n# Perform the required imports.\n\nfrom ansys.optislang.core import Optislang\nimport ansys.optislang.core.examples as examples"
      ]
    },
    {
      "cell_type": "markdown",
      "metadata": {},
      "source": [
        "## Create optiSLang instance\nCreate the optiSLang instance.\n\n"
      ]
    },
    {
      "cell_type": "code",
      "execution_count": null,
      "metadata": {
        "collapsed": false
      },
      "outputs": [],
      "source": [
        "osl = Optislang(ini_timeout=60)\nprint(osl)"
      ]
    },
    {
      "cell_type": "markdown",
      "metadata": {},
      "source": [
        "## Get path of example script and run it\nGet the path of the example script and then run this\nscript.\n\n"
      ]
    },
    {
      "cell_type": "code",
      "execution_count": null,
      "metadata": {
        "collapsed": false
      },
      "outputs": [],
      "source": [
        "paths = examples.get_files(\"optimizer_settings\")\nosl.application.project.run_python_file(paths[0])"
      ]
    },
    {
      "cell_type": "markdown",
      "metadata": {},
      "source": [
        "## Optionally save project\nIf you want to save the project to some desired\nlocation, uncomment and edit these lines:\n\n.. code:: python\n\n  path = r'<insert-desired-location>'\n  osl.application.save_as(os.path.join(path, \"test_project.opf\"))\n\n\n"
      ]
    },
    {
      "cell_type": "markdown",
      "metadata": {},
      "source": [
        "## Stop and cancel project\nStop and cancel the project.\n\n"
      ]
    },
    {
      "cell_type": "code",
      "execution_count": null,
      "metadata": {
        "collapsed": false
      },
      "outputs": [],
      "source": [
        "osl.dispose()"
      ]
    },
    {
      "cell_type": "markdown",
      "metadata": {},
      "source": [
        "## View generated workflow\nThis image shows the generated workflow.\n\n<img src=\"file://../../_static/05_optimizer_settings.png\" width=\"300\" alt=\"Result of script.\">\n\n\n"
      ]
    }
  ],
  "metadata": {
    "kernelspec": {
      "display_name": "Python 3",
      "language": "python",
      "name": "python3"
    },
    "language_info": {
      "codemirror_mode": {
        "name": "ipython",
        "version": 3
      },
      "file_extension": ".py",
      "mimetype": "text/x-python",
      "name": "python",
      "nbconvert_exporter": "python",
      "pygments_lexer": "ipython3",
      "version": "3.10.16"
    }
  },
  "nbformat": 4,
  "nbformat_minor": 0
}