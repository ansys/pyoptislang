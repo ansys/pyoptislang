{
  "cells": [
    {
      "cell_type": "markdown",
      "metadata": {},
      "source": [
        "\n\n# Basic server queries\n\nThis example demonstrates how to use PyOptiSLang to perform basic\nqueries/commands on the optiSLang server using the explicit API.\n"
      ]
    },
    {
      "cell_type": "markdown",
      "metadata": {},
      "source": [
        "## Perform required imports\nPerform the required imports.\n\n"
      ]
    },
    {
      "cell_type": "code",
      "execution_count": null,
      "metadata": {
        "collapsed": false
      },
      "outputs": [],
      "source": [
        "from pathlib import Path\nimport tempfile\n\nfrom ansys.optislang.core import Optislang\nimport ansys.optislang.core.examples as examples"
      ]
    },
    {
      "cell_type": "markdown",
      "metadata": {},
      "source": [
        "## Create optiSLang instance\nCreate the optiSLang instance.\n\n"
      ]
    },
    {
      "cell_type": "code",
      "execution_count": null,
      "metadata": {
        "collapsed": false
      },
      "outputs": [],
      "source": [
        "example_path = examples.get_files(\"ten_bar_truss\")[1][0]\ntmp_dir = Path(tempfile.mkdtemp())\nfile_path = tmp_dir / \"evaluate_design_example.opf\"\n\nosl = Optislang(project_path=example_path)\nosl.save_as(file_path)"
      ]
    },
    {
      "cell_type": "markdown",
      "metadata": {},
      "source": [
        "## Get optiSLang server connection info\nPrint osl server host and port.\n\n"
      ]
    },
    {
      "cell_type": "code",
      "execution_count": null,
      "metadata": {
        "collapsed": false
      },
      "outputs": [],
      "source": [
        "print(f\"Server host/address: {osl.get_osl_server().get_host()}\")\nprint(f\"Server port: {osl.get_osl_server().get_port()}\")"
      ]
    },
    {
      "cell_type": "markdown",
      "metadata": {},
      "source": [
        "## Get optiSLang info and optiSLang server info\nPrint optiSLang and optiSLang server info.\n\n"
      ]
    },
    {
      "cell_type": "code",
      "execution_count": null,
      "metadata": {
        "collapsed": false
      },
      "outputs": [],
      "source": [
        "print(f\"Server info: {osl.get_osl_server().get_server_info()}\")\nprint(f\"optiSLang version: {osl.get_osl_server().get_osl_version()}\")\nprint(f\"optiSLang version string: {osl.get_osl_server().get_osl_version_string()}\")"
      ]
    },
    {
      "cell_type": "markdown",
      "metadata": {},
      "source": [
        "## Get basic project info\nQuery basic server/project info.\n\n"
      ]
    },
    {
      "cell_type": "code",
      "execution_count": null,
      "metadata": {
        "collapsed": false
      },
      "outputs": [],
      "source": [
        "print(f\"Basic project info: {osl.get_osl_server().get_basic_project_info()}\")\nprint(f\"Project description: {osl.get_osl_server().get_project_description()}\")\nprint(f\"Project file location: {osl.get_osl_server().get_project_location()}\")\nprint(f\"Project working directory: {osl.get_osl_server().get_working_dir()}\")\nprint(f\"Project name: {osl.get_osl_server().get_project_name()}\")\nprint(f\"Project (run) status: {osl.get_osl_server().get_project_status()}\")\nprint(f\"Full project tree: {osl.get_osl_server().get_full_project_tree()}\")"
      ]
    },
    {
      "cell_type": "markdown",
      "metadata": {},
      "source": [
        "## Stop and cancel project\nStop and cancel the project.\n\n"
      ]
    },
    {
      "cell_type": "code",
      "execution_count": null,
      "metadata": {
        "collapsed": false
      },
      "outputs": [],
      "source": [
        "osl.dispose()"
      ]
    }
  ],
  "metadata": {
    "kernelspec": {
      "display_name": "Python 3",
      "language": "python",
      "name": "python3"
    },
    "language_info": {
      "codemirror_mode": {
        "name": "ipython",
        "version": 3
      },
      "file_extension": ".py",
      "mimetype": "text/x-python",
      "name": "python",
      "nbconvert_exporter": "python",
      "pygments_lexer": "ipython3",
      "version": "3.10.13"
    }
  },
  "nbformat": 4,
  "nbformat_minor": 0
}