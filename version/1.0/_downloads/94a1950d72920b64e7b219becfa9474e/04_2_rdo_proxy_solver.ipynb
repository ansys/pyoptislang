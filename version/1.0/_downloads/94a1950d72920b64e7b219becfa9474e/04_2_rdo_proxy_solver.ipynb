{
  "cells": [
    {
      "cell_type": "markdown",
      "metadata": {},
      "source": [
        "\n\n# Robust design with optimization with proxy solver\n\nThis example demonstrates how to create robust design optimization workflow.\n\nIt creates multiple parametric systems using `Proxy Solver` node as a solver and then runs the workflow by parts.\n"
      ]
    },
    {
      "cell_type": "markdown",
      "metadata": {},
      "source": [
        "## Perform required imports\nPerform the required imports.\n\n"
      ]
    },
    {
      "cell_type": "code",
      "execution_count": null,
      "metadata": {
        "collapsed": false
      },
      "outputs": [],
      "source": [
        "import time\nfrom typing import Union\n\nfrom ansys.optislang.core import Optislang\nimport ansys.optislang.core.node_types as node_types\nfrom ansys.optislang.core.nodes import (\n    DesignFlow,\n    ExecutionOption,\n    IntegrationNode,\n    Node,\n    ParametricSystem,\n    ProxySolverNode,\n)\nfrom ansys.optislang.core.project_parametric import (\n    ComparisonType,\n    MixedParameter,\n    ObjectiveCriterion,\n    OptimizationParameter,\n    ParameterType,\n)\nfrom ansys.optislang.core.utils import find_all_osl_exec"
      ]
    },
    {
      "cell_type": "markdown",
      "metadata": {},
      "source": [
        "## Create solver\nDefine a simple calculator function to solve the variations.\n\n"
      ]
    },
    {
      "cell_type": "code",
      "execution_count": null,
      "metadata": {
        "collapsed": false
      },
      "outputs": [],
      "source": [
        "def calculator(hid, X1, X2, X3, X4, X5):\n    from math import sin, sqrt\n\n    Y = 0.5 * X1 + X2 + 0.5 * X1 * X2 + 5 * sin(X3) + 0.2 * X4 + 0.1 * X5\n    Z = ((-1) * sqrt(abs(Y))) ** 3\n    return Y, Z\n\n\ndef calculate(designs):\n    result_design_list = []\n    print(f\"Calculate {len(designs)} designs\")\n    for design in designs:\n        hid = design[\"hid\"]\n        parameters = design[\"parameters\"]\n        X1 = 0.0\n        X2 = 0.0\n        X3 = 0.0\n        X4 = 0.0\n        X5 = 0.0\n        for parameter in parameters:\n            if parameter[\"name\"] == \"X1\":\n                X1 = parameter[\"value\"]\n            elif parameter[\"name\"] == \"X2\":\n                X2 = parameter[\"value\"]\n            elif parameter[\"name\"] == \"X3\":\n                X3 = parameter[\"value\"]\n            elif parameter[\"name\"] == \"X4\":\n                X4 = parameter[\"value\"]\n            elif parameter[\"name\"] == \"X5\":\n                X5 = parameter[\"value\"]\n        Y, Z = calculator(hid, X1, X2, X3, X4, X5)\n\n        result_design = {}\n        result_design[\"hid\"] = hid\n        responses = []\n        responses.append({\"name\": \"Y\", \"value\": Y})\n        responses.append({\"name\": \"Z\", \"value\": Z})\n        result_design[\"responses\"] = responses\n        result_design_list.append(result_design)\n\n    print(f\"Return {len(result_design_list)} designs\")\n    return result_design_list"
      ]
    },
    {
      "cell_type": "markdown",
      "metadata": {},
      "source": [
        "### Create workflow creation and execution routines\n - Define a routine that adds a proxy solver node into parametric system and registers parameters, responses and criteria.\n - Define a routine that handles `ProxySolver` node execution.\n\n"
      ]
    },
    {
      "cell_type": "code",
      "execution_count": null,
      "metadata": {
        "collapsed": false
      },
      "outputs": [],
      "source": [
        "def add_solver_node_to_parent_system(\n    parent_system: ParametricSystem,\n    parameter_type: Union[\n        ParameterType.DETERMINISTIC, ParameterType.MIXED\n    ] = ParameterType.DETERMINISTIC,\n) -> IntegrationNode:\n    \"\"\"Create and set up solver node within the parent system.\n\n    Parameters\n    ----------\n    parent_system : ParametricSystem\n        Parent system to which the solver node will be added.\n    parameter_type: Union[ParameterType.DETERMINISTIC, ParameterType.MIXED]\n        Parameter type to be created in parent system.\n\n    Returns\n    -------\n    IntegrationNode\n        The created solver node.\n    \"\"\"\n    solver: ProxySolverNode = parent_system.create_node(\n        type_=node_types.ProxySolver, name=\"Proxy Solver\", design_flow=DesignFlow.RECEIVE_SEND\n    )\n\n    # Set the desired maximum number of designs you handle in one go.\n    multi_design_launch_num = -1  # set -1 to solve all designs simultaneously\n    solver.set_property(\"MultiDesignLaunchNum\", multi_design_launch_num)\n    solver.set_property(\"ForwardHPCLicenseContextEnvironment\", True)\n\n    # Load the available parameters and responses.\n\n    load_json = {}\n    load_json[\"parameters\"] = []\n    load_json[\"responses\"] = []\n\n    for i in range(1, 6):\n        parameter = {\"dir\": {\"value\": \"input\"}, \"name\": f\"X{i}\", \"value\": 1.0}\n        load_json[\"parameters\"].append(parameter)\n\n    response_y = {\"dir\": {\"value\": \"output\"}, \"name\": \"Y\", \"value\": 3.0}\n    response_z = {\"dir\": {\"value\": \"output\"}, \"name\": \"Z\", \"value\": 3.0}\n    load_json[\"responses\"].append(response_y)\n    load_json[\"responses\"].append(response_z)\n\n    solver.load(args=load_json)\n\n    # Register parameters and responses to be available in the amop system.\n\n    solver.register_locations_as_parameter()\n    solver.register_locations_as_response()\n\n    # Change parameter bounds.\n\n    for i in range(1, 6):\n        if parameter_type == ParameterType.DETERMINISTIC:\n            parent_system.parameter_manager.modify_parameter(\n                OptimizationParameter(name=f\"X{i}\", reference_value=1.0, range=(-3.14, 3.14))\n            )\n        elif parameter_type == ParameterType.MIXED:\n            parent_system.parameter_manager.modify_parameter(\n                MixedParameter(name=f\"X{i}\", reference_value=1.0, range=(-3.14, 3.14))\n            )\n\n    # Create a criterion in the amop system\n\n    parent_system.criteria_manager.add_criterion(\n        ObjectiveCriterion(name=\"obj_y\", expression=\"Y\", criterion=ComparisonType.MIN)\n    )\n    parent_system.criteria_manager.add_criterion(\n        ObjectiveCriterion(name=\"obj_z\", expression=\"Z\", criterion=ComparisonType.MIN)\n    )\n    return solver\n\n\ndef run_proxy_solver_in_parent_system(osl: Optislang, solver: ProxySolverNode):\n    \"\"\"Run the solver node within the parent system.\n\n    Parameters\n    ----------\n    osl : Optislang\n        The optiSLang instance.\n    solver : IntegrationNode\n        The solver node to run.\n    \"\"\"\n    # Loop until get_status() returns \"FINISHED\" for the project system. Use the GET_DESIGNS query and the SET_DESIGNS command\n    # for the Proxy Solver node to get designs and set responses until the system is done.\n    while True:\n        status = osl.application.project.get_status()\n        if status == \"FINISHED\":\n            osl.log.info(f\"Project status: {status}\")\n            break\n        elif status == \"STOPPED\":\n            osl.log.info(f\"Project status: {status}\")\n            break\n        design_list = solver.get_designs()\n        if len(design_list):\n            responses_dict = calculate(design_list)\n            solver.set_designs(responses_dict)\n        time.sleep(0.1)"
      ]
    },
    {
      "cell_type": "markdown",
      "metadata": {},
      "source": [
        "## Create optiSLang instance\nFind the optiSLang >= 25.1 executable. Initialize the Optislang class instance with the executable.\n\n"
      ]
    },
    {
      "cell_type": "code",
      "execution_count": null,
      "metadata": {
        "collapsed": false
      },
      "outputs": [],
      "source": [
        "available_optislang_executables = find_all_osl_exec()\nversion, executables = available_optislang_executables.popitem(last=False)\n# ProxySolver node is available since version 25R1\nif not version >= 251:\n    raise KeyError(\"OptiSLang installation >= 25R1 wasn't found, please specify path manually.\")\n\nosl = Optislang(executable=executables[0], loglevel=\"INFO\")\nosl.log.info(f\"Using optiSLang version {osl.osl_version_string}\")"
      ]
    },
    {
      "cell_type": "markdown",
      "metadata": {},
      "source": [
        "## Create workflow\n\n"
      ]
    },
    {
      "cell_type": "code",
      "execution_count": null,
      "metadata": {
        "collapsed": false
      },
      "outputs": [],
      "source": [
        "root_system = osl.application.project.root_system"
      ]
    },
    {
      "cell_type": "markdown",
      "metadata": {},
      "source": [
        "### AMOP system of your choice\n\n"
      ]
    },
    {
      "cell_type": "code",
      "execution_count": null,
      "metadata": {
        "collapsed": false
      },
      "outputs": [],
      "source": [
        "amop_system: ParametricSystem = root_system.create_node(type_=node_types.AMOP, name=\"AMOP\")\n\n# Optionally modify algorithm settings\n# num_discretization = 2000\n# amop_settings = amop_system.get_property(\"AlgorithmSettings\")\n# amop_settings[\"num_discretization\"] = num_discretization\n# amop_system.set_property(\"AlgorithmSettings\", amop_settings)\n\n# Fast running solver settings\n\namop_system.set_property(\"AutoSaveMode\", \"no_auto_save\")\namop_system.set_property(\"SolveTwice\", True)\namop_system.set_property(\"UpdateResultFile\", \"at_end\")\n# amop_system.set_property(\"WriteDesignStartSetFlag\", False)\n\n# Add the Proxy Solver node.\n\namop_proxy_solver: ProxySolverNode = add_solver_node_to_parent_system(amop_system)"
      ]
    },
    {
      "cell_type": "markdown",
      "metadata": {},
      "source": [
        "### Optimization on MOP\n\n"
      ]
    },
    {
      "cell_type": "code",
      "execution_count": null,
      "metadata": {
        "collapsed": false
      },
      "outputs": [],
      "source": [
        "oco_on_mop: ParametricSystem = root_system.create_node(type_=node_types.OCO, name=\"OCO_MOP\")\n\n# oco_on_mop.set_property(\"PreferCriteriaFromSlot\", True)\noco_on_mop.set_property(\"AutoSaveMode\", \"no_auto_save\")\noco_on_mop.set_property(\"SolveTwice\", True)\noco_on_mop.set_property(\"UpdateResultFile\", \"at_end\")\n# oco_on_mop.set_property(\"ParameterMergingMode\", \"merge_from_slot\")\n\noco_mop_solver: IntegrationNode = oco_on_mop.create_node(\n    type_=node_types.Mopsolver, name=\"MOP Solver\", design_flow=DesignFlow.RECEIVE_SEND\n)\n\n# connect\namop_system.get_output_slots(\"OParameterManager\")[0].connect_to(\n    oco_on_mop.get_input_slots(\"IParameterManager\")[0]\n)\namop_system.get_output_slots(\"OMDBPath\")[0].connect_to(\n    oco_mop_solver.get_input_slots(\"IMDBPath\")[0]\n)\n\nref_val = float(1.0000000000000000001)\n\nfor i in range(1, 6):\n    oco_mop_solver.register_location_as_parameter(\n        location={\n            \"base\": \"X1\",\n            \"dir\": {\"enum\": [\"input\", \"output\"], \"value\": \"input\"},\n            \"id\": f\"X{i}\",\n            \"suffix\": \"\",\n            \"value_type\": {\n                \"enum\": [\"value\", \"cop\", \"rmse\", \"error\", \"abs_error\", \"density\"],\n                \"value\": \"value\",\n            },\n        },\n        # {'is_important': True},\n        reference_value=ref_val,\n    )\n\noco_mop_solver.register_location_as_response(\n    location={\n        \"base\": \"Y\",\n        \"dir\": {\"value\": \"output\"},\n        \"id\": \"Y\",\n        \"suffix\": \"\",\n        \"value_type\": {\"value\": \"value\"},\n    },\n    reference_value=0.6987874926243327,\n)\n\noco_mop_solver.register_location_as_response(\n    location={\n        \"base\": \"Z\",\n        \"dir\": {\"value\": \"output\"},\n        \"id\": \"Z\",\n        \"suffix\": \"\",\n        \"value_type\": {\"value\": \"value\"},\n    },\n    reference_value=-0.5841409930323823,\n)\n\nfor i in range(1, 6):\n    oco_on_mop.parameter_manager.modify_parameter(\n        OptimizationParameter(name=f\"X{i}\", reference_value=1.0, range=(-3.14, 3.14))\n    )\n\noco_on_mop.criteria_manager.add_criterion(\n    ObjectiveCriterion(name=\"obj_y\", expression=\"Y\", criterion=ComparisonType.MIN)\n)\noco_on_mop.criteria_manager.add_criterion(\n    ObjectiveCriterion(name=\"obj_z\", expression=\"Z\", criterion=ComparisonType.MIN)\n)"
      ]
    },
    {
      "cell_type": "markdown",
      "metadata": {},
      "source": [
        "### Filter designs\n\n"
      ]
    },
    {
      "cell_type": "code",
      "execution_count": null,
      "metadata": {
        "collapsed": false
      },
      "outputs": [],
      "source": [
        "filter_node: IntegrationNode = root_system.create_node(\n    type_=node_types.DataMining, name=\"VALIDATOR_FILTER_NODE\"\n)\n\n# connect\nosl.osl_server.create_input_slot(filter_node.uid, \"IBestDesigns\")\noco_on_mop.get_output_slots(\"OBestDesigns\")[0].connect_to(\n    filter_node.get_input_slots(\"IBestDesigns\")[0]\n)\n\n\nofilter = {\n    \"OFilteredBestDesigns\": [\n        {\n            \"First\": {\"name\": \"AddDesignsFromSlot\"},\n            \"Second\": [\n                {\"design_container\": []},\n                {\"string\": \"OBestDesigns\"},\n                {\"design_entry\": False},\n            ],\n        }\n    ]\n}\n\n\ndmm = filter_node.get_property(\"DataMiningManager\")\ndmm[\"id_filter_list_map\"] = ofilter\nfilter_node.set_property(\"DataMiningManager\", dmm)\n\ngetbestdesigns = {\n    \"First\": {\"name\": \"GetBestDesigns\"},\n    \"Second\": [{\"design_container\": []}, {\"design_entry\": 2}],  # number of best designs - user set?\n}\n\ndmm = filter_node.get_property(\"DataMiningManager\")\ndmm[\"id_filter_list_map\"][\"OFilteredBestDesigns\"].append(getbestdesigns)\nfilter_node.set_property(\"DataMiningManager\", dmm)\n\nfilter_node.load()\nfilter_node.register_location_as_output_slot(\n    location=\"OFilteredBestDesigns\", name=\"OFilteredBestDesigns\"\n)"
      ]
    },
    {
      "cell_type": "markdown",
      "metadata": {},
      "source": [
        "### Validator system\n\n"
      ]
    },
    {
      "cell_type": "code",
      "execution_count": null,
      "metadata": {
        "collapsed": false
      },
      "outputs": [],
      "source": [
        "validator_system: ParametricSystem = osl.application.project.root_system.create_node(\n    type_=node_types.Sensitivity, name=\"Validator System\"\n)\nvalidator_proxy_solver = add_solver_node_to_parent_system(validator_system)\n\n# Connect\nfilter_node.get_output_slots(\"OFilteredBestDesigns\")[0].connect_to(\n    validator_system.get_input_slots(\"IStartDesigns\")[0]\n)\noco_on_mop.get_output_slots(\"OCriteria\")[0].connect_to(\n    validator_system.get_input_slots(\"ICriteria\")[0]\n)"
      ]
    },
    {
      "cell_type": "markdown",
      "metadata": {},
      "source": [
        "### Design filter for postprocessing\n\n"
      ]
    },
    {
      "cell_type": "code",
      "execution_count": null,
      "metadata": {
        "collapsed": false
      },
      "outputs": [],
      "source": [
        "append_node: IntegrationNode = osl.application.project.root_system.create_node(\n    type_=node_types.DataMining, name=\"Append Designs\"\n)\n\n# python script to workaround missing pyoptislang functionalities\ncommand = f\"append_node = find_actor('Append Designs')\\n\" \"append_node.init_append_best_designs()\\n\"\nosl.application.project.run_python_script(command)\n\nvalidator_system.get_output_slots(\"ODesigns\")[0].connect_to(\n    append_node.get_input_slots(\"IDesigns\")[0]\n)\noco_on_mop.get_output_slots(\"OMDBPath\")[0].connect_to(append_node.get_input_slots(\"IMDBPath\")[0])"
      ]
    },
    {
      "cell_type": "markdown",
      "metadata": {},
      "source": [
        "### Postprocessing node\n\n"
      ]
    },
    {
      "cell_type": "code",
      "execution_count": null,
      "metadata": {
        "collapsed": false
      },
      "outputs": [],
      "source": [
        "postprocessing_node: Node = root_system.create_node(\n    type_=node_types.Postprocessing, name=\"PostProcessing\"\n)\n\n# connect\nappend_node.get_output_slots(\"OValidatedMDBPath\")[0].connect_to(\n    postprocessing_node.get_input_slots(\"IMDBPath\")[0]\n)"
      ]
    },
    {
      "cell_type": "markdown",
      "metadata": {},
      "source": [
        "### Optimization on solver\n\n"
      ]
    },
    {
      "cell_type": "code",
      "execution_count": null,
      "metadata": {
        "collapsed": false
      },
      "outputs": [],
      "source": [
        "oco_on_solver: ParametricSystem = root_system.create_node(type_=node_types.OCO, name=\"OCO_SOLVER\")\n\n# oco_on_solver.set_property(\"PreferCriteriaFromSlot\", True)\noco_on_solver.set_property(\"AutoSaveMode\", \"no_auto_save\")\noco_on_solver.set_property(\"SolveTwice\", True)\noco_on_solver.set_property(\"UpdateResultFile\", \"at_end\")\n# oco_on_solver.set_property(\"ParameterMergingMode\", \"merge_from_slot\")\n\noco_proxy_solver = add_solver_node_to_parent_system(oco_on_solver)\n\n# connect\nvalidator_system.get_output_slots(\"OBestDesigns\")[0].connect_to(\n    oco_on_solver.get_input_slots(\"IStartDesigns\")[0]\n)"
      ]
    },
    {
      "cell_type": "markdown",
      "metadata": {},
      "source": [
        "### Robustness system\n\n"
      ]
    },
    {
      "cell_type": "code",
      "execution_count": null,
      "metadata": {
        "collapsed": false
      },
      "outputs": [],
      "source": [
        "robustness: ParametricSystem = root_system.create_node(\n    type_=node_types.Robustness, name=\"Robustness\"\n)\nrobustness_solver = add_solver_node_to_parent_system(robustness, ParameterType.MIXED)\n\n# connect\noco_on_solver.get_output_slots(\"OBestDesigns\")[0].connect_to(\n    robustness.get_input_slots(\"INominalDesigns\")[0]\n)"
      ]
    },
    {
      "cell_type": "markdown",
      "metadata": {},
      "source": [
        "### MOP node\n\n"
      ]
    },
    {
      "cell_type": "code",
      "execution_count": null,
      "metadata": {
        "collapsed": false
      },
      "outputs": [],
      "source": [
        "mop_node = root_system.create_node(type_=node_types.Mop, name=\"MOP\")\n\n# connect\nrobustness.get_output_slots(\"OMDBPath\")[0].connect_to(mop_node.get_input_slots(\"IMDBPath\")[0])\nrobustness.get_output_slots(\"OParameterManager\")[0].connect_to(\n    mop_node.get_input_slots(\"IParameterManager\")[0]\n)\n\nosl.log.info(\"Workflow created\")"
      ]
    },
    {
      "cell_type": "markdown",
      "metadata": {},
      "source": [
        "### Optionally save project\nIf you want to save the project to some desired location,\nuncomment and edit these lines:\n\n.. code:: python\n\n  from pathlib import Path\n  dir_path = Path(r\"<insert-desired-location>\")\n  project_name = \"rdo_workflow.opf\"\n  osl.application.save_as(dir_path / project_name)\n\n"
      ]
    },
    {
      "cell_type": "markdown",
      "metadata": {},
      "source": [
        "## Run workflow\nRun the workflow created by the preceding scripts. In this example, workflow is run in multiple steps.\nAt first, all systems/nodes are set to inactive except the AMOP system with it's proxy solver. The AMOP system is then executed.\nThen, the other systems/nodes are activated and run one by one.\n\n"
      ]
    },
    {
      "cell_type": "markdown",
      "metadata": {},
      "source": [
        "### AMOP system\nSet AMOP system as starting and end point and set all other systems/nodes to inactive state.\n\n"
      ]
    },
    {
      "cell_type": "code",
      "execution_count": null,
      "metadata": {
        "collapsed": false
      },
      "outputs": [],
      "source": [
        "amop_system.set_execution_options(\n    ExecutionOption.ACTIVE | ExecutionOption.STARTING_POINT | ExecutionOption.END_POINT\n)\namop_proxy_solver.set_execution_options(ExecutionOption.ACTIVE)\noco_on_mop.set_execution_options(ExecutionOption.INACTIVE)\noco_mop_solver.set_execution_options(ExecutionOption.INACTIVE)\nfilter_node.set_execution_options(ExecutionOption.INACTIVE)\nvalidator_system.set_execution_options(ExecutionOption.INACTIVE)\nvalidator_proxy_solver.set_execution_options(ExecutionOption.INACTIVE)\nappend_node.set_execution_options(ExecutionOption.INACTIVE)\noco_on_solver.set_execution_options(ExecutionOption.INACTIVE)\noco_proxy_solver.set_execution_options(ExecutionOption.INACTIVE)\nrobustness.set_execution_options(ExecutionOption.INACTIVE)\nrobustness_solver.set_execution_options(ExecutionOption.INACTIVE)\npostprocessing_node.set_execution_options(ExecutionOption.INACTIVE)\nmop_node.set_execution_options(ExecutionOption.INACTIVE)\n\n# Start the optiSLang project execution.\nosl.log.info(\"Start execution of the AMOP system.\")\nosl.application.project.start(wait_for_finished=False)\nrun_proxy_solver_in_parent_system(osl, amop_proxy_solver)\nosl.log.info(\"AMOP system finished.\")"
      ]
    },
    {
      "cell_type": "markdown",
      "metadata": {},
      "source": [
        "### OCO_MOP system\nRemove starting and end point setting from system executed in previous step, set up and start current system.\n\n"
      ]
    },
    {
      "cell_type": "code",
      "execution_count": null,
      "metadata": {
        "collapsed": false
      },
      "outputs": [],
      "source": [
        "amop_system.set_execution_options(ExecutionOption.ACTIVE)\noco_on_mop.set_execution_options(\n    ExecutionOption.ACTIVE | ExecutionOption.STARTING_POINT | ExecutionOption.END_POINT\n)\noco_mop_solver.set_execution_options(ExecutionOption.ACTIVE)\nosl.log.info(\"Start execution of the OCO_MOP system.\")\nosl.application.project.start()\nosl.log.info(\"OCO_MOP system finished.\")"
      ]
    },
    {
      "cell_type": "markdown",
      "metadata": {},
      "source": [
        "### Validator system\nRemove starting and end point setting from system executed in previous step, set up and start current system.\n\n"
      ]
    },
    {
      "cell_type": "code",
      "execution_count": null,
      "metadata": {
        "collapsed": false
      },
      "outputs": [],
      "source": [
        "oco_on_mop.set_execution_options(ExecutionOption.ACTIVE)\nfilter_node.set_execution_options(ExecutionOption.ACTIVE | ExecutionOption.STARTING_POINT)\nvalidator_system.set_execution_options(ExecutionOption.ACTIVE | ExecutionOption.END_POINT)\nvalidator_proxy_solver.set_execution_options(ExecutionOption.ACTIVE)\nosl.log.info(\"Start execution of the Validator system.\")\nosl.application.project.start(wait_for_finished=False)\nrun_proxy_solver_in_parent_system(osl, validator_proxy_solver)\nosl.log.info(\"Validator system finished.\")"
      ]
    },
    {
      "cell_type": "markdown",
      "metadata": {},
      "source": [
        "### Append Designs filter and postprocessing node\nRemove starting and end point setting from system executed in previous step, set up and start current system.\n\n"
      ]
    },
    {
      "cell_type": "code",
      "execution_count": null,
      "metadata": {
        "collapsed": false
      },
      "outputs": [],
      "source": [
        "filter_node.set_execution_options(ExecutionOption.ACTIVE)\nvalidator_system.set_execution_options(ExecutionOption.ACTIVE)\nappend_node.set_execution_options(ExecutionOption.ACTIVE | ExecutionOption.STARTING_POINT)\npostprocessing_node.set_execution_options(ExecutionOption.ACTIVE | ExecutionOption.END_POINT)\nosl.log.info(\"Start execution of the Append Designs filter and Postprocessing node.\")\nosl.application.project.start()\nosl.log.info(\"Append Designs filter and Postprocessing node finished.\")"
      ]
    },
    {
      "cell_type": "markdown",
      "metadata": {},
      "source": [
        "### Optimization on solver\nRemove starting and end point setting from system executed in previous step, set up and start current system.\n\n"
      ]
    },
    {
      "cell_type": "code",
      "execution_count": null,
      "metadata": {
        "collapsed": false
      },
      "outputs": [],
      "source": [
        "append_node.set_execution_options(ExecutionOption.ACTIVE)\npostprocessing_node.set_execution_options(ExecutionOption.ACTIVE)\noco_on_solver.set_execution_options(\n    ExecutionOption.ACTIVE | ExecutionOption.STARTING_POINT | ExecutionOption.END_POINT\n)\noco_proxy_solver.set_execution_options(ExecutionOption.ACTIVE)\nosl.log.info(\"Start execution of the optimization system with solver.\")\nosl.application.project.start(wait_for_finished=False)\nrun_proxy_solver_in_parent_system(osl, oco_proxy_solver)\nosl.log.info(\"Optimization system with solver finished.\")"
      ]
    },
    {
      "cell_type": "markdown",
      "metadata": {},
      "source": [
        "### Robustness system\nRemove starting and end point setting from system executed in previous step, set up and start current system.\n\n"
      ]
    },
    {
      "cell_type": "code",
      "execution_count": null,
      "metadata": {
        "collapsed": false
      },
      "outputs": [],
      "source": [
        "oco_on_solver.set_execution_options(ExecutionOption.ACTIVE)\nrobustness.set_execution_options(\n    ExecutionOption.ACTIVE | ExecutionOption.STARTING_POINT | ExecutionOption.END_POINT\n)\nrobustness_solver.set_execution_options(ExecutionOption.ACTIVE)\nosl.log.info(\"Start execution of the Robustness system.\")\nosl.application.project.start(wait_for_finished=False)\nrun_proxy_solver_in_parent_system(osl, robustness_solver)\nosl.log.info(\"Robustness system finished.\")"
      ]
    },
    {
      "cell_type": "markdown",
      "metadata": {},
      "source": [
        "### MOP system\nRemove starting and end point setting from system executed in previous step, set up and start current system.\nFinally remove starting and end point execution option from current system.\n\n"
      ]
    },
    {
      "cell_type": "code",
      "execution_count": null,
      "metadata": {
        "collapsed": false
      },
      "outputs": [],
      "source": [
        "robustness.set_execution_options(ExecutionOption.ACTIVE)\nmop_node.set_execution_options(\n    ExecutionOption.ACTIVE | ExecutionOption.STARTING_POINT | ExecutionOption.END_POINT\n)\nosl.log.info(\"Start execution of the MOP system.\")\nosl.application.project.start()\nosl.log.info(\"MOP system finished.\")\nmop_node.set_execution_options(ExecutionOption.ACTIVE)\n\nosl.application.save()\nosl.log.info(\"Project saved.\")"
      ]
    },
    {
      "cell_type": "markdown",
      "metadata": {},
      "source": [
        "### Stop and cancel project\nStop and cancel the project.\n\n"
      ]
    },
    {
      "cell_type": "code",
      "execution_count": null,
      "metadata": {
        "collapsed": false
      },
      "outputs": [],
      "source": [
        "osl.dispose()"
      ]
    },
    {
      "cell_type": "markdown",
      "metadata": {},
      "source": [
        "## View generated workflow\nThis image shows the generated workflow.\n\n<img src=\"file://../../_static/04_2_RDO_w_proxysolver.png\" width=\"1200\" alt=\"Result of script.\">\n\n"
      ]
    }
  ],
  "metadata": {
    "kernelspec": {
      "display_name": "Python 3",
      "language": "python",
      "name": "python3"
    },
    "language_info": {
      "codemirror_mode": {
        "name": "ipython",
        "version": 3
      },
      "file_extension": ".py",
      "mimetype": "text/x-python",
      "name": "python",
      "nbconvert_exporter": "python",
      "pygments_lexer": "ipython3",
      "version": "3.13.3"
    }
  },
  "nbformat": 4,
  "nbformat_minor": 0
}