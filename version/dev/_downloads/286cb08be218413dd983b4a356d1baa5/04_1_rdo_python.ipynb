{
  "cells": [
    {
      "cell_type": "markdown",
      "metadata": {},
      "source": [
        "\n\n# Robust design optimization with python solver\n\nThis example demonstrates how to create robust design optimization workflow.\n\nIt creates multiple parametric systems using `Python` node as a solver and then runs the workflow.\n"
      ]
    },
    {
      "cell_type": "markdown",
      "metadata": {},
      "source": [
        "## Perform required imports\nPerform the required imports.\n\n"
      ]
    },
    {
      "cell_type": "code",
      "execution_count": null,
      "metadata": {
        "collapsed": false
      },
      "outputs": [],
      "source": [
        "from typing import Union\n\nfrom ansys.optislang.core import Optislang\nimport ansys.optislang.core.node_types as node_types\nfrom ansys.optislang.core.nodes import DesignFlow, IntegrationNode, Node, ParametricSystem\nfrom ansys.optislang.core.project_parametric import (\n    ComparisonType,\n    MixedParameter,\n    ObjectiveCriterion,\n    OptimizationParameter,\n    ParameterType,\n)"
      ]
    },
    {
      "cell_type": "markdown",
      "metadata": {},
      "source": [
        "## Create workflow creation routines\nDefine a routine that adds a python node into parametric system and registers parameters, responses and criteria.\n\n"
      ]
    },
    {
      "cell_type": "code",
      "execution_count": null,
      "metadata": {
        "collapsed": false
      },
      "outputs": [],
      "source": [
        "def add_solver_node_to_parent_system(\n    parent_system: ParametricSystem,\n    parameter_type: Union[\n        ParameterType.DETERMINISTIC, ParameterType.MIXED\n    ] = ParameterType.DETERMINISTIC,\n) -> IntegrationNode:\n    \"\"\"Create and set up solver node within the parent system.\n\n    Parameters\n    ----------\n    parent_system : ParametricSystem\n        Parent system to which the solver node will be added.\n    parameter_type: Union[ParameterType.DETERMINISTIC, ParameterType.MIXED]\n        Parameter type to be created in parent system.\n\n    Returns\n    -------\n    IntegrationNode\n        The created solver node.\n    \"\"\"\n    solver: IntegrationNode = parent_system.create_node(\n        type_=node_types.Python2, name=\"Python\", design_flow=DesignFlow.RECEIVE_SEND\n    )\n    source_code = r\"\"\"from math import sin, sqrt\nY = 0.5 * X1 + X2 + 0.5 * X1 * X2 + 5 * sin(X3) + 0.2 * X4 + 0.1 * X5\nZ = ((-1)*sqrt(abs(Y)))**3\"\"\"\n    solver.set_property(\"Source\", source_code)\n\n    # Load the available parameters and responses.\n    props = solver.get_properties()\n    info = solver._get_info()\n    for i in range(1, 6):\n        solver.register_location_as_parameter(location=f\"X{i}\", name=f\"X{i}\", reference_value=0.0)\n\n    solver.register_location_as_response(location=\"Y\", name=\"Y\", reference_value=3.0)\n    solver.register_location_as_response(location=\"Y\", name=\"Z\", reference_value=3.0)\n\n    # Change parameter bounds.\n\n    for i in range(1, 6):\n        if parameter_type == ParameterType.DETERMINISTIC:\n            parent_system.parameter_manager.modify_parameter(\n                OptimizationParameter(name=f\"X{i}\", reference_value=1.0, range=(-3.14, 3.14))\n            )\n        elif parameter_type == ParameterType.MIXED:\n            parent_system.parameter_manager.modify_parameter(\n                MixedParameter(name=f\"X{i}\", reference_value=1.0, range=(-3.14, 3.14))\n            )\n\n    # Create a criterion in the amop system\n\n    parent_system.criteria_manager.add_criterion(\n        ObjectiveCriterion(name=\"obj_y\", expression=\"Y\", criterion=ComparisonType.MIN)\n    )\n    parent_system.criteria_manager.add_criterion(\n        ObjectiveCriterion(name=\"obj_z\", expression=\"Z\", criterion=ComparisonType.MIN)\n    )\n    return solver"
      ]
    },
    {
      "cell_type": "markdown",
      "metadata": {},
      "source": [
        "## Create optiSLang instance\n\n"
      ]
    },
    {
      "cell_type": "code",
      "execution_count": null,
      "metadata": {
        "collapsed": false
      },
      "outputs": [],
      "source": [
        "from pathlib import Path\n\nosl = Optislang(loglevel=\"INFO\")\nosl.log.info(f\"Using optiSLang version {osl.osl_version_string}\")"
      ]
    },
    {
      "cell_type": "markdown",
      "metadata": {},
      "source": [
        "## Create workflow\n\n"
      ]
    },
    {
      "cell_type": "code",
      "execution_count": null,
      "metadata": {
        "collapsed": false
      },
      "outputs": [],
      "source": [
        "root_system = osl.application.project.root_system"
      ]
    },
    {
      "cell_type": "markdown",
      "metadata": {},
      "source": [
        "### AMOP system of your choice\n\n"
      ]
    },
    {
      "cell_type": "code",
      "execution_count": null,
      "metadata": {
        "collapsed": false
      },
      "outputs": [],
      "source": [
        "amop_system: ParametricSystem = root_system.create_node(type_=node_types.AMOP, name=\"AMOP\")\n\n# Optionally modify algorithm settings\n# num_discretization = 2000\n# amop_settings = amop_system.get_property(\"AlgorithmSettings\")\n# amop_settings[\"num_discretization\"] = num_discretization\n# amop_system.set_property(\"AlgorithmSettings\", amop_settings)\n\n# Fast running solver settings\n\namop_system.set_property(\"AutoSaveMode\", \"no_auto_save\")\namop_system.set_property(\"SolveTwice\", True)\namop_system.set_property(\"UpdateResultFile\", \"at_end\")\n# amop_system.set_property(\"WriteDesignStartSetFlag\", False)\n\n# Add the Python node.\n\namop_python_solver: IntegrationNode = add_solver_node_to_parent_system(amop_system)"
      ]
    },
    {
      "cell_type": "markdown",
      "metadata": {},
      "source": [
        "### Optimization on MOP\n\n"
      ]
    },
    {
      "cell_type": "code",
      "execution_count": null,
      "metadata": {
        "collapsed": false
      },
      "outputs": [],
      "source": [
        "oco_on_mop: ParametricSystem = root_system.create_node(type_=node_types.OCO, name=\"OCO_MOP\")\n\n# oco_on_mop.set_property(\"PreferCriteriaFromSlot\", True)\noco_on_mop.set_property(\"AutoSaveMode\", \"no_auto_save\")\noco_on_mop.set_property(\"SolveTwice\", True)\noco_on_mop.set_property(\"UpdateResultFile\", \"at_end\")\n# oco_on_mop.set_property(\"ParameterMergingMode\", \"merge_from_slot\")\n\noco_mop_solver: IntegrationNode = oco_on_mop.create_node(\n    type_=node_types.Mopsolver, name=\"MOP Solver\", design_flow=DesignFlow.RECEIVE_SEND\n)\n\n# connect\namop_system.get_output_slots(\"OParameterManager\")[0].connect_to(\n    oco_on_mop.get_input_slots(\"IParameterManager\")[0]\n)\namop_system.get_output_slots(\"OMDBPath\")[0].connect_to(\n    oco_mop_solver.get_input_slots(\"IMDBPath\")[0]\n)\n\nref_val = float(1.0000000000000000001)\n\nfor i in range(1, 6):\n    oco_mop_solver.register_location_as_parameter(\n        location={\n            \"base\": \"X1\",\n            \"dir\": {\"enum\": [\"input\", \"output\"], \"value\": \"input\"},\n            \"id\": f\"X{i}\",\n            \"suffix\": \"\",\n            \"value_type\": {\n                \"enum\": [\"value\", \"cop\", \"rmse\", \"error\", \"abs_error\", \"density\"],\n                \"value\": \"value\",\n            },\n        },\n        # {'is_important': True},\n        reference_value=ref_val,\n    )\n\noco_mop_solver.register_location_as_response(\n    location={\n        \"base\": \"Y\",\n        \"dir\": {\"value\": \"output\"},\n        \"id\": \"Y\",\n        \"suffix\": \"\",\n        \"value_type\": {\"value\": \"value\"},\n    },\n    reference_value=0.6987874926243327,\n)\n\noco_mop_solver.register_location_as_response(\n    location={\n        \"base\": \"Z\",\n        \"dir\": {\"value\": \"output\"},\n        \"id\": \"Z\",\n        \"suffix\": \"\",\n        \"value_type\": {\"value\": \"value\"},\n    },\n    reference_value=-0.5841409930323823,\n)\n\nfor i in range(1, 6):\n    oco_on_mop.parameter_manager.modify_parameter(\n        OptimizationParameter(name=f\"X{i}\", reference_value=1.0, range=(-3.14, 3.14))\n    )\n\noco_on_mop.criteria_manager.add_criterion(\n    ObjectiveCriterion(name=\"obj_y\", expression=\"Y\", criterion=ComparisonType.MIN)\n)\noco_on_mop.criteria_manager.add_criterion(\n    ObjectiveCriterion(name=\"obj_z\", expression=\"Z\", criterion=ComparisonType.MIN)\n)"
      ]
    },
    {
      "cell_type": "markdown",
      "metadata": {},
      "source": [
        "### Filter designs\n\n"
      ]
    },
    {
      "cell_type": "code",
      "execution_count": null,
      "metadata": {
        "collapsed": false
      },
      "outputs": [],
      "source": [
        "filter_node: IntegrationNode = root_system.create_node(\n    type_=node_types.DataMining, name=\"VALIDATOR_FILTER_NODE\"\n)\n\n# connect\nosl.osl_server.create_input_slot(filter_node.uid, \"IBestDesigns\")\noco_on_mop.get_output_slots(\"OBestDesigns\")[0].connect_to(\n    filter_node.get_input_slots(\"IBestDesigns\")[0]\n)\n\n\nofilter = {\n    \"OFilteredBestDesigns\": [\n        {\n            \"First\": {\"name\": \"AddDesignsFromSlot\"},\n            \"Second\": [\n                {\"design_container\": []},\n                {\"string\": \"OBestDesigns\"},\n                {\"design_entry\": False},\n            ],\n        }\n    ]\n}\n\n\ndmm = filter_node.get_property(\"DataMiningManager\")\ndmm[\"id_filter_list_map\"] = ofilter\nfilter_node.set_property(\"DataMiningManager\", dmm)\n\ngetbestdesigns = {\n    \"First\": {\"name\": \"GetBestDesigns\"},\n    \"Second\": [{\"design_container\": []}, {\"design_entry\": 2}],  # number of best designs - user set?\n}\n\ndmm = filter_node.get_property(\"DataMiningManager\")\ndmm[\"id_filter_list_map\"][\"OFilteredBestDesigns\"].append(getbestdesigns)\nfilter_node.set_property(\"DataMiningManager\", dmm)\n\nfilter_node.load()\nfilter_node.register_location_as_output_slot(\n    location=\"OFilteredBestDesigns\", name=\"OFilteredBestDesigns\"\n)"
      ]
    },
    {
      "cell_type": "markdown",
      "metadata": {},
      "source": [
        "### Validator system\n\n"
      ]
    },
    {
      "cell_type": "code",
      "execution_count": null,
      "metadata": {
        "collapsed": false
      },
      "outputs": [],
      "source": [
        "validator_system: ParametricSystem = osl.application.project.root_system.create_node(\n    type_=node_types.Sensitivity, name=\"Validator System\"\n)\nvalidator_proxy_solver = add_solver_node_to_parent_system(validator_system)\n\n# Connect\nfilter_node.get_output_slots(\"OFilteredBestDesigns\")[0].connect_to(\n    validator_system.get_input_slots(\"IStartDesigns\")[0]\n)\noco_on_mop.get_output_slots(\"OCriteria\")[0].connect_to(\n    validator_system.get_input_slots(\"ICriteria\")[0]\n)"
      ]
    },
    {
      "cell_type": "markdown",
      "metadata": {},
      "source": [
        "### Design filter for postprocessing\n\n"
      ]
    },
    {
      "cell_type": "code",
      "execution_count": null,
      "metadata": {
        "collapsed": false
      },
      "outputs": [],
      "source": [
        "append_node: IntegrationNode = osl.application.project.root_system.create_node(\n    type_=node_types.DataMining, name=\"Append Designs\"\n)\n\n# python script to workaround missing pyoptislang functionalities\ncommand = f\"append_node = find_actor('Append Designs')\\n\" \"append_node.init_append_best_designs()\\n\"\nosl.application.project.run_python_script(command)\n\nvalidator_system.get_output_slots(\"ODesigns\")[0].connect_to(\n    append_node.get_input_slots(\"IDesigns\")[0]\n)\noco_on_mop.get_output_slots(\"OMDBPath\")[0].connect_to(append_node.get_input_slots(\"IMDBPath\")[0])"
      ]
    },
    {
      "cell_type": "markdown",
      "metadata": {},
      "source": [
        "### Postprocessing node\n\n"
      ]
    },
    {
      "cell_type": "code",
      "execution_count": null,
      "metadata": {
        "collapsed": false
      },
      "outputs": [],
      "source": [
        "postprocessing_node: Node = root_system.create_node(\n    type_=node_types.Postprocessing, name=\"PostProcessing\"\n)\n\n# connect\nappend_node.get_output_slots(\"OValidatedMDBPath\")[0].connect_to(\n    postprocessing_node.get_input_slots(\"IMDBPath\")[0]\n)"
      ]
    },
    {
      "cell_type": "markdown",
      "metadata": {},
      "source": [
        "### Optimization on python solver\n\n"
      ]
    },
    {
      "cell_type": "code",
      "execution_count": null,
      "metadata": {
        "collapsed": false
      },
      "outputs": [],
      "source": [
        "oco_on_solver: ParametricSystem = root_system.create_node(type_=node_types.OCO, name=\"OCO_SOLVER\")\n\n# oco_on_solver.set_property(\"PreferCriteriaFromSlot\", True)\noco_on_solver.set_property(\"AutoSaveMode\", \"no_auto_save\")\noco_on_solver.set_property(\"SolveTwice\", True)\noco_on_solver.set_property(\"UpdateResultFile\", \"at_end\")\n# oco_on_solver.set_property(\"ParameterMergingMode\", \"merge_from_slot\")\n\noco_proxy_solver = add_solver_node_to_parent_system(oco_on_solver)\n\n# connect\nvalidator_system.get_output_slots(\"OBestDesigns\")[0].connect_to(\n    oco_on_solver.get_input_slots(\"IStartDesigns\")[0]\n)"
      ]
    },
    {
      "cell_type": "markdown",
      "metadata": {},
      "source": [
        "### Robustness system\n\n"
      ]
    },
    {
      "cell_type": "code",
      "execution_count": null,
      "metadata": {
        "collapsed": false
      },
      "outputs": [],
      "source": [
        "robustness: ParametricSystem = root_system.create_node(\n    type_=node_types.Robustness, name=\"Robustness\"\n)\nrobustness_solver = add_solver_node_to_parent_system(robustness, ParameterType.MIXED)\n\n# connect\noco_on_solver.get_output_slots(\"OBestDesigns\")[0].connect_to(\n    robustness.get_input_slots(\"INominalDesigns\")[0]\n)\n\n#################\n# MOP node\n# ~~~~~~~~\n\nmop_node = root_system.create_node(type_=node_types.Mop, name=\"MOP\")\n\n# connect\nrobustness.get_output_slots(\"OMDBPath\")[0].connect_to(mop_node.get_input_slots(\"IMDBPath\")[0])\nrobustness.get_output_slots(\"OParameterManager\")[0].connect_to(\n    mop_node.get_input_slots(\"IParameterManager\")[0]\n)\n\nosl.log.info(\"Workflow created\")"
      ]
    },
    {
      "cell_type": "markdown",
      "metadata": {},
      "source": [
        "### Optionally save project\nIf you want to save the project to some desired location,\nuncomment and edit these lines:\n\n.. code:: python\n\n  from pathlib import Path\n  dir_path = Path(r\"<insert-desired-location>\")\n  project_name = \"rdo_workflow.opf\"\n  osl.application.save_as(dir_path / project_name)\n\n"
      ]
    },
    {
      "cell_type": "markdown",
      "metadata": {},
      "source": [
        "## Run workflow\nRun the workflow created by the preceding scripts.\nIn this example, workflow is run in one step.\n\n"
      ]
    },
    {
      "cell_type": "code",
      "execution_count": null,
      "metadata": {
        "collapsed": false
      },
      "outputs": [],
      "source": [
        "osl.log.info(\"Start execution of the workflow.\")\nosl.application.project.start()\nosl.application.save()\nosl.log.info(\"Project saved.\")"
      ]
    },
    {
      "cell_type": "markdown",
      "metadata": {},
      "source": [
        "### Stop and cancel project\nStop and cancel the project.\n\n"
      ]
    },
    {
      "cell_type": "code",
      "execution_count": null,
      "metadata": {
        "collapsed": false
      },
      "outputs": [],
      "source": [
        "osl.dispose()"
      ]
    },
    {
      "cell_type": "markdown",
      "metadata": {},
      "source": [
        "## View generated workflow\nThis image shows the generated workflow.\n\n<img src=\"file://../../_static/04_1_RDO_w_python.png\" width=\"1200\" alt=\"Result of script.\">\n\n"
      ]
    }
  ],
  "metadata": {
    "kernelspec": {
      "display_name": "Python 3",
      "language": "python",
      "name": "python3"
    },
    "language_info": {
      "codemirror_mode": {
        "name": "ipython",
        "version": 3
      },
      "file_extension": ".py",
      "mimetype": "text/x-python",
      "name": "python",
      "nbconvert_exporter": "python",
      "pygments_lexer": "ipython3",
      "version": "3.13.7"
    }
  },
  "nbformat": 4,
  "nbformat_minor": 0
}