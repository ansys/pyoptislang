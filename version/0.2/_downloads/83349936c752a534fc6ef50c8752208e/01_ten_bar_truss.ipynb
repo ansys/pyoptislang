{
  "cells": [
    {
      "cell_type": "markdown",
      "metadata": {},
      "source": [
        "\n\n# Ten bar truss\n\nThis example demonstrates the evaluation of designs.\n\nIt uses the ``evaluate_design()`` method at the\nroot level of a project.\n\nFirst, a reference design is obtained and then\ncross section areas are decreased in each iteration to minimize mass, while\nsatisfying defined constraints of maximum stress for two loading conditions.\n\nThe example project has been prepared in a certain way to support the\n\"Design evaluation\" use case:\n\n- Workflow components have been created at the root system level.\n- Parameters and responses have been registered at the root system level.\n- Proper workflow components have been connected to the root system using\n  **Receive designs** and **Send back designs** options.\n\nFor more information, see the optiSLang user documentation on generating\nworkflows.\n\nThis image shows the workflow:\n"
      ]
    },
    {
      "cell_type": "markdown",
      "metadata": {},
      "source": [
        "Workflow:\n .. image:: ../../_static/01_ten_bar_truss_evaluate_design.png\n  :width: 400\n  :alt: Result of script.\n\n########################################################\n\n"
      ]
    },
    {
      "cell_type": "markdown",
      "metadata": {},
      "source": [
        "## Perform required imports\nPerform the required imports.\n\n"
      ]
    },
    {
      "cell_type": "code",
      "execution_count": null,
      "metadata": {
        "collapsed": false
      },
      "outputs": [],
      "source": [
        "from pathlib import Path\nimport tempfile\n\nimport matplotlib.pyplot as plt\n\nfrom ansys.optislang.core import Optislang\nimport ansys.optislang.core.examples as examples"
      ]
    },
    {
      "cell_type": "markdown",
      "metadata": {},
      "source": [
        "## Create optiSLang instance\nCreate the optiSLang instance.\n\n"
      ]
    },
    {
      "cell_type": "code",
      "execution_count": null,
      "metadata": {
        "collapsed": false
      },
      "outputs": [],
      "source": [
        "example_path = examples.get_files(\"ten_bar_truss\")[1][0]\ntmp_dir = Path(tempfile.mkdtemp())\nfile_path = tmp_dir / \"evaluate_design_example.opf\"\n\nosl = Optislang(project_path=example_path)\nosl.save_as(file_path)\nprint(osl.get_working_dir())"
      ]
    },
    {
      "cell_type": "markdown",
      "metadata": {},
      "source": [
        "## Evaluate reference design\nGet the reference design, evaluate it, and extract the results.\n\n"
      ]
    },
    {
      "cell_type": "code",
      "execution_count": null,
      "metadata": {
        "collapsed": false
      },
      "outputs": [],
      "source": [
        "rs = osl.project.root_system\nparameters_count = len(rs.parameter_manager.get_parameters_names())\ntry_decrease_param = [True for i in range(parameters_count)]\nsuccessfull_designs = []\nunsuccessfull_designs = []\n\ndesign = rs.get_reference_design()\nrs.evaluate_design(design)\nif design.feasibility:\n    successfull_designs.append(design)\nelse:\n    raise ValueError(\"Constraints not satisfied for reference design, do not start example.\")\n\nobjectives = {obj.name: obj.value for obj in design.objectives}\nresponses = {resp.name: resp.value for resp in design.responses}\nplot_mass_successfull = [(1, objectives[\"obj\"])]\nplot_mass_unsuccessfull = []\n\nplot_max_stress_lc1 = [abs(max(responses[\"stress\"], key=abs))]\nplot_max_stress_lc2 = [abs(max(responses[\"stress_lc2\"], key=abs))]"
      ]
    },
    {
      "cell_type": "markdown",
      "metadata": {},
      "source": [
        "## Decrease cross section areas\nCopy the last successful design and gradually decrease\ncross section areas of each truss, storing the results.\nIf decreasing a cross sectional area leads to violation\nof constraints, stop decreasing it.\n\n"
      ]
    },
    {
      "cell_type": "code",
      "execution_count": null,
      "metadata": {
        "collapsed": false
      },
      "outputs": [],
      "source": [
        "design_count = 1\nwhile True in try_decrease_param:\n    for j in range(parameters_count):\n        if not try_decrease_param[j]:\n            continue\n        design_count += 1\n        design = successfull_designs[-1].copy_unevaluated_design()\n        parameters = design.parameters\n        parameter_value = parameters[j].value\n        if parameter_value > 1:\n            parameters[j].value = parameter_value - 1\n        else:\n            try_decrease_param[j] = False\n            continue\n        rs.evaluate_design(design)\n        if design.feasibility:\n            successfull_designs.append(design)\n            objectives = {obj.name: obj.value for obj in design.objectives}\n            responses = {resp.name: resp.value for resp in design.responses}\n            plot_mass_successfull.append((design_count, objectives[\"obj\"]))\n        else:\n            unsuccessfull_designs.append(design)\n            objectives = {obj.name: obj.value for obj in design.objectives}\n            responses = {resp.name: resp.value for resp in design.responses}\n            try_decrease_param[j] = False\n            plot_mass_unsuccessfull.append((design_count, objectives[\"obj\"]))\n        plot_max_stress_lc1.append(abs(max(responses[\"stress\"], key=abs)))\n        plot_max_stress_lc2.append(abs(max(responses[\"stress_lc2\"], key=abs)))"
      ]
    },
    {
      "cell_type": "markdown",
      "metadata": {},
      "source": [
        "## Extract cross sectional areas\nFrom the last successful design, extract cross sectional areas, objective,\nand constraints.\n\n"
      ]
    },
    {
      "cell_type": "code",
      "execution_count": null,
      "metadata": {
        "collapsed": false
      },
      "outputs": [],
      "source": [
        "best_design = successfull_designs[-1]\nprint(\"*-----------BEST-DESIGN-PARAMETERS-------------*\")\nfor parameter in best_design.parameters:\n    print(parameter.name, parameter.value)\nprint(\"*-----------BEST-DESIGN-OBJECTIVE-------------*\")\nfor objective in best_design.objectives:\n    print(objective.name, objective.value)"
      ]
    },
    {
      "cell_type": "markdown",
      "metadata": {},
      "source": [
        "## Stop and cancel project\nStop and cancel the project.\n\n"
      ]
    },
    {
      "cell_type": "code",
      "execution_count": null,
      "metadata": {
        "collapsed": false
      },
      "outputs": [],
      "source": [
        "osl.dispose()"
      ]
    },
    {
      "cell_type": "markdown",
      "metadata": {},
      "source": [
        "## Plot extracted results\nPlot the extracted results.\n\n"
      ]
    },
    {
      "cell_type": "code",
      "execution_count": null,
      "metadata": {
        "collapsed": false
      },
      "outputs": [],
      "source": [
        "fig, axs = plt.subplots(2)\nfig.suptitle(\"Optimization of ten bar truss cross section areas\")\n\ns1 = axs[0].scatter(\n    [xy[0] for xy in plot_mass_successfull],\n    [xy[1] for xy in plot_mass_successfull],\n    color=\"g\",\n    label=\"successful\",\n)\ns2 = axs[0].scatter(\n    [xy[0] for xy in plot_mass_unsuccessfull],\n    [xy[1] for xy in plot_mass_unsuccessfull],\n    color=\"r\",\n    label=\"unsuccessful\",\n)\naxs[0].set_ylabel(\"mass\")\naxs[0].legend()\n\n(l1,) = axs[1].plot(range(1, design_count + 1), plot_max_stress_lc1, color=\"b\", label=\"lc1\")\naxs[1].hlines(y=25000, xmin=1, xmax=design_count, color=\"b\", linestyles=\"--\")\n(l2,) = axs[1].plot(range(1, design_count + 1), plot_max_stress_lc2, color=\"c\", label=\"lc2\")\naxs[1].hlines(y=35000, xmin=1, xmax=design_count, color=\"c\", linestyles=\"--\")\naxs[1].set_xlabel(\"design ID\")\naxs[1].set_ylabel(\"max stress\")\naxs[1].legend(handles=[l1, l2])\nplt.show()"
      ]
    }
  ],
  "metadata": {
    "kernelspec": {
      "display_name": "Python 3",
      "language": "python",
      "name": "python3"
    },
    "language_info": {
      "codemirror_mode": {
        "name": "ipython",
        "version": 3
      },
      "file_extension": ".py",
      "mimetype": "text/x-python",
      "name": "python",
      "nbconvert_exporter": "python",
      "pygments_lexer": "ipython3",
      "version": "3.10.11"
    }
  },
  "nbformat": 4,
  "nbformat_minor": 0
}